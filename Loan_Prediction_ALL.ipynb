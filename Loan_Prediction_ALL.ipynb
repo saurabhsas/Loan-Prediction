{
 "cells": [
  {
   "cell_type": "markdown",
   "metadata": {},
   "source": [
    "### Step1 : Access data and perform Exploratory Data Analysis (EDA)\n",
    "    Univariate Analysis\n",
    "    Bi-variate Analysis\n",
    "    Multi-variate Analysis\n",
    "\n",
    "### Step2 : Pre-processing Steps\n",
    "    2.1 Filling the missing values : Categorical with Mode and Continous with Mean\n",
    "    2.2 Converting categories to numbers\n",
    "    2.3 Bring all the variables in range 0 to 1\n",
    "\n",
    "### Step 3 : Segregate the data into Features(X) and Target(y) and later perform Train, Validation & Test splits\n",
    "\n",
    "### Step 4 : Try Multiple algorithms of Machine Learning for Select the champion(best) model.\n",
    "    4.1 : Create a Model with Decision Tree and Prune the classification tree with Hyperparameter Tunning\n",
    "    4.2 : Create a Model with Logistic Regression and perform Hyperparameter Tunning\n",
    "    4.3 : Create a Model with SVM and perform Hyperparameter Tunning\n",
    "    4.4 : Create a Model with Random Forest and perform Hyperparameter Tunning\n",
    "    4.5 : Create a Model with Extreme Gradient Boosting (XGBoost) Model and perform Hyperparameter Tunning\n",
    "\n",
    "### Step 5 (Summary) : Compare model results and final model selection"
   ]
  },
  {
   "cell_type": "markdown",
   "metadata": {},
   "source": [
    "#### -----------------------------------------------------------------------------------------------------------------------------------------------------------------------------------------------------------------"
   ]
  },
  {
   "cell_type": "markdown",
   "metadata": {},
   "source": [
    "### Step1 : Access data and perform Exploratory Data Analysis (EDA)"
   ]
  },
  {
   "cell_type": "code",
   "execution_count": 1,
   "metadata": {
    "colab": {},
    "colab_type": "code",
    "id": "Mi9Sv8GigUQj"
   },
   "outputs": [],
   "source": [
    "# importing required libraries for data access, preprocessing & visulaization\n",
    "import pandas as pd\n",
    "import numpy as np\n",
    "from matplotlib import pyplot as plt\n",
    "%matplotlib inline\n",
    "import seaborn as sns"
   ]
  },
  {
   "cell_type": "code",
   "execution_count": 2,
   "metadata": {
    "colab": {},
    "colab_type": "code",
    "id": "LLs73an_gUQ2"
   },
   "outputs": [],
   "source": [
    "# reading the loan prediction data\n",
    "loan = pd.read_csv('loan_data.csv')"
   ]
  },
  {
   "cell_type": "code",
   "execution_count": 3,
   "metadata": {
    "colab": {
     "base_uri": "https://localhost:8080/",
     "height": 243
    },
    "colab_type": "code",
    "id": "4EbJ0M-pgURA",
    "outputId": "d66c38bd-b26c-4317-d302-590a38c84bf5"
   },
   "outputs": [
    {
     "data": {
      "text/html": [
       "<div>\n",
       "<style scoped>\n",
       "    .dataframe tbody tr th:only-of-type {\n",
       "        vertical-align: middle;\n",
       "    }\n",
       "\n",
       "    .dataframe tbody tr th {\n",
       "        vertical-align: top;\n",
       "    }\n",
       "\n",
       "    .dataframe thead th {\n",
       "        text-align: right;\n",
       "    }\n",
       "</style>\n",
       "<table border=\"1\" class=\"dataframe\">\n",
       "  <thead>\n",
       "    <tr style=\"text-align: right;\">\n",
       "      <th></th>\n",
       "      <th>Loan_ID</th>\n",
       "      <th>Gender</th>\n",
       "      <th>Married</th>\n",
       "      <th>Dependents</th>\n",
       "      <th>Education</th>\n",
       "      <th>Self_Employed</th>\n",
       "      <th>ApplicantIncome</th>\n",
       "      <th>CoapplicantIncome</th>\n",
       "      <th>LoanAmount</th>\n",
       "      <th>Loan_Amount_Term</th>\n",
       "      <th>Credit_History</th>\n",
       "      <th>Property_Area</th>\n",
       "      <th>Loan_Status</th>\n",
       "    </tr>\n",
       "  </thead>\n",
       "  <tbody>\n",
       "    <tr>\n",
       "      <th>607</th>\n",
       "      <td>LP002964</td>\n",
       "      <td>Male</td>\n",
       "      <td>Yes</td>\n",
       "      <td>2</td>\n",
       "      <td>Not Graduate</td>\n",
       "      <td>No</td>\n",
       "      <td>3987</td>\n",
       "      <td>1411.0</td>\n",
       "      <td>157.0</td>\n",
       "      <td>360.0</td>\n",
       "      <td>1.0</td>\n",
       "      <td>Rural</td>\n",
       "      <td>Y</td>\n",
       "    </tr>\n",
       "    <tr>\n",
       "      <th>608</th>\n",
       "      <td>LP002974</td>\n",
       "      <td>Male</td>\n",
       "      <td>Yes</td>\n",
       "      <td>0</td>\n",
       "      <td>Graduate</td>\n",
       "      <td>No</td>\n",
       "      <td>3232</td>\n",
       "      <td>1950.0</td>\n",
       "      <td>108.0</td>\n",
       "      <td>360.0</td>\n",
       "      <td>1.0</td>\n",
       "      <td>Rural</td>\n",
       "      <td>Y</td>\n",
       "    </tr>\n",
       "    <tr>\n",
       "      <th>609</th>\n",
       "      <td>LP002978</td>\n",
       "      <td>Female</td>\n",
       "      <td>No</td>\n",
       "      <td>0</td>\n",
       "      <td>Graduate</td>\n",
       "      <td>No</td>\n",
       "      <td>2900</td>\n",
       "      <td>0.0</td>\n",
       "      <td>71.0</td>\n",
       "      <td>360.0</td>\n",
       "      <td>1.0</td>\n",
       "      <td>Rural</td>\n",
       "      <td>Y</td>\n",
       "    </tr>\n",
       "    <tr>\n",
       "      <th>610</th>\n",
       "      <td>LP002979</td>\n",
       "      <td>Male</td>\n",
       "      <td>Yes</td>\n",
       "      <td>3+</td>\n",
       "      <td>Graduate</td>\n",
       "      <td>No</td>\n",
       "      <td>4106</td>\n",
       "      <td>0.0</td>\n",
       "      <td>40.0</td>\n",
       "      <td>180.0</td>\n",
       "      <td>1.0</td>\n",
       "      <td>Rural</td>\n",
       "      <td>Y</td>\n",
       "    </tr>\n",
       "    <tr>\n",
       "      <th>611</th>\n",
       "      <td>LP002983</td>\n",
       "      <td>Male</td>\n",
       "      <td>Yes</td>\n",
       "      <td>1</td>\n",
       "      <td>Graduate</td>\n",
       "      <td>No</td>\n",
       "      <td>8072</td>\n",
       "      <td>240.0</td>\n",
       "      <td>253.0</td>\n",
       "      <td>360.0</td>\n",
       "      <td>1.0</td>\n",
       "      <td>Urban</td>\n",
       "      <td>Y</td>\n",
       "    </tr>\n",
       "    <tr>\n",
       "      <th>612</th>\n",
       "      <td>LP002984</td>\n",
       "      <td>Male</td>\n",
       "      <td>Yes</td>\n",
       "      <td>2</td>\n",
       "      <td>Graduate</td>\n",
       "      <td>No</td>\n",
       "      <td>7583</td>\n",
       "      <td>0.0</td>\n",
       "      <td>187.0</td>\n",
       "      <td>360.0</td>\n",
       "      <td>1.0</td>\n",
       "      <td>Urban</td>\n",
       "      <td>Y</td>\n",
       "    </tr>\n",
       "    <tr>\n",
       "      <th>613</th>\n",
       "      <td>LP002990</td>\n",
       "      <td>Female</td>\n",
       "      <td>No</td>\n",
       "      <td>0</td>\n",
       "      <td>Graduate</td>\n",
       "      <td>Yes</td>\n",
       "      <td>4583</td>\n",
       "      <td>0.0</td>\n",
       "      <td>133.0</td>\n",
       "      <td>360.0</td>\n",
       "      <td>0.0</td>\n",
       "      <td>Semiurban</td>\n",
       "      <td>N</td>\n",
       "    </tr>\n",
       "  </tbody>\n",
       "</table>\n",
       "</div>"
      ],
      "text/plain": [
       "      Loan_ID  Gender Married Dependents     Education Self_Employed  \\\n",
       "607  LP002964    Male     Yes          2  Not Graduate            No   \n",
       "608  LP002974    Male     Yes          0      Graduate            No   \n",
       "609  LP002978  Female      No          0      Graduate            No   \n",
       "610  LP002979    Male     Yes         3+      Graduate            No   \n",
       "611  LP002983    Male     Yes          1      Graduate            No   \n",
       "612  LP002984    Male     Yes          2      Graduate            No   \n",
       "613  LP002990  Female      No          0      Graduate           Yes   \n",
       "\n",
       "     ApplicantIncome  CoapplicantIncome  LoanAmount  Loan_Amount_Term  \\\n",
       "607             3987             1411.0       157.0             360.0   \n",
       "608             3232             1950.0       108.0             360.0   \n",
       "609             2900                0.0        71.0             360.0   \n",
       "610             4106                0.0        40.0             180.0   \n",
       "611             8072              240.0       253.0             360.0   \n",
       "612             7583                0.0       187.0             360.0   \n",
       "613             4583                0.0       133.0             360.0   \n",
       "\n",
       "     Credit_History Property_Area Loan_Status  \n",
       "607             1.0         Rural           Y  \n",
       "608             1.0         Rural           Y  \n",
       "609             1.0         Rural           Y  \n",
       "610             1.0         Rural           Y  \n",
       "611             1.0         Urban           Y  \n",
       "612             1.0         Urban           Y  \n",
       "613             0.0     Semiurban           N  "
      ]
     },
     "execution_count": 3,
     "metadata": {},
     "output_type": "execute_result"
    }
   ],
   "source": [
    "# looking at the last 7 rows of the data\n",
    "loan.tail(7)"
   ]
  },
  {
   "cell_type": "code",
   "execution_count": 4,
   "metadata": {
    "colab": {
     "base_uri": "https://localhost:8080/",
     "height": 34
    },
    "colab_type": "code",
    "id": "mX37vC7LgURN",
    "outputId": "5de59ce4-e7d0-4f25-9e0b-e3f668807e53",
    "scrolled": false
   },
   "outputs": [
    {
     "data": {
      "text/plain": [
       "(614, 13)"
      ]
     },
     "execution_count": 4,
     "metadata": {},
     "output_type": "execute_result"
    }
   ],
   "source": [
    "# shape of the data (Count of Rows & Columns)\n",
    "loan.shape"
   ]
  },
  {
   "cell_type": "code",
   "execution_count": 5,
   "metadata": {
    "colab": {
     "base_uri": "https://localhost:8080/",
     "height": 260
    },
    "colab_type": "code",
    "id": "FpY683r0gURY",
    "outputId": "48ba24ef-fb89-4f6d-a1c2-9c08e5c0a73d"
   },
   "outputs": [
    {
     "data": {
      "text/plain": [
       "Loan_ID               0\n",
       "Gender               13\n",
       "Married               3\n",
       "Dependents           15\n",
       "Education             0\n",
       "Self_Employed        32\n",
       "ApplicantIncome       0\n",
       "CoapplicantIncome     0\n",
       "LoanAmount           22\n",
       "Loan_Amount_Term     14\n",
       "Credit_History       50\n",
       "Property_Area         0\n",
       "Loan_Status           0\n",
       "dtype: int64"
      ]
     },
     "execution_count": 5,
     "metadata": {},
     "output_type": "execute_result"
    }
   ],
   "source": [
    "# checking missing values for each column\n",
    "loan.isnull().sum()"
   ]
  },
  {
   "cell_type": "code",
   "execution_count": 6,
   "metadata": {},
   "outputs": [
    {
     "name": "stdout",
     "output_type": "stream",
     "text": [
      "<class 'pandas.core.frame.DataFrame'>\n",
      "RangeIndex: 614 entries, 0 to 613\n",
      "Data columns (total 13 columns):\n",
      " #   Column             Non-Null Count  Dtype  \n",
      "---  ------             --------------  -----  \n",
      " 0   Loan_ID            614 non-null    object \n",
      " 1   Gender             601 non-null    object \n",
      " 2   Married            611 non-null    object \n",
      " 3   Dependents         599 non-null    object \n",
      " 4   Education          614 non-null    object \n",
      " 5   Self_Employed      582 non-null    object \n",
      " 6   ApplicantIncome    614 non-null    int64  \n",
      " 7   CoapplicantIncome  614 non-null    float64\n",
      " 8   LoanAmount         592 non-null    float64\n",
      " 9   Loan_Amount_Term   600 non-null    float64\n",
      " 10  Credit_History     564 non-null    float64\n",
      " 11  Property_Area      614 non-null    object \n",
      " 12  Loan_Status        614 non-null    object \n",
      "dtypes: float64(4), int64(1), object(8)\n",
      "memory usage: 62.5+ KB\n"
     ]
    }
   ],
   "source": [
    "#Basic information about the data-set (Column-Name, count of not-null rows for each column and Data-Type )\n",
    "loan.info()"
   ]
  },
  {
   "cell_type": "code",
   "execution_count": 7,
   "metadata": {},
   "outputs": [
    {
     "data": {
      "text/html": [
       "<div>\n",
       "<style scoped>\n",
       "    .dataframe tbody tr th:only-of-type {\n",
       "        vertical-align: middle;\n",
       "    }\n",
       "\n",
       "    .dataframe tbody tr th {\n",
       "        vertical-align: top;\n",
       "    }\n",
       "\n",
       "    .dataframe thead th {\n",
       "        text-align: right;\n",
       "    }\n",
       "</style>\n",
       "<table border=\"1\" class=\"dataframe\">\n",
       "  <thead>\n",
       "    <tr style=\"text-align: right;\">\n",
       "      <th></th>\n",
       "      <th>count</th>\n",
       "      <th>mean</th>\n",
       "      <th>std</th>\n",
       "      <th>min</th>\n",
       "      <th>25%</th>\n",
       "      <th>50%</th>\n",
       "      <th>75%</th>\n",
       "      <th>max</th>\n",
       "    </tr>\n",
       "  </thead>\n",
       "  <tbody>\n",
       "    <tr>\n",
       "      <th>ApplicantIncome</th>\n",
       "      <td>614.0</td>\n",
       "      <td>5403.46</td>\n",
       "      <td>6109.04</td>\n",
       "      <td>150.0</td>\n",
       "      <td>2877.5</td>\n",
       "      <td>3812.5</td>\n",
       "      <td>5795.00</td>\n",
       "      <td>81000.0</td>\n",
       "    </tr>\n",
       "    <tr>\n",
       "      <th>CoapplicantIncome</th>\n",
       "      <td>614.0</td>\n",
       "      <td>1621.25</td>\n",
       "      <td>2926.25</td>\n",
       "      <td>0.0</td>\n",
       "      <td>0.0</td>\n",
       "      <td>1188.5</td>\n",
       "      <td>2297.25</td>\n",
       "      <td>41667.0</td>\n",
       "    </tr>\n",
       "    <tr>\n",
       "      <th>LoanAmount</th>\n",
       "      <td>592.0</td>\n",
       "      <td>146.41</td>\n",
       "      <td>85.59</td>\n",
       "      <td>9.0</td>\n",
       "      <td>100.0</td>\n",
       "      <td>128.0</td>\n",
       "      <td>168.00</td>\n",
       "      <td>700.0</td>\n",
       "    </tr>\n",
       "    <tr>\n",
       "      <th>Loan_Amount_Term</th>\n",
       "      <td>600.0</td>\n",
       "      <td>342.00</td>\n",
       "      <td>65.12</td>\n",
       "      <td>12.0</td>\n",
       "      <td>360.0</td>\n",
       "      <td>360.0</td>\n",
       "      <td>360.00</td>\n",
       "      <td>480.0</td>\n",
       "    </tr>\n",
       "    <tr>\n",
       "      <th>Credit_History</th>\n",
       "      <td>564.0</td>\n",
       "      <td>0.84</td>\n",
       "      <td>0.36</td>\n",
       "      <td>0.0</td>\n",
       "      <td>1.0</td>\n",
       "      <td>1.0</td>\n",
       "      <td>1.00</td>\n",
       "      <td>1.0</td>\n",
       "    </tr>\n",
       "  </tbody>\n",
       "</table>\n",
       "</div>"
      ],
      "text/plain": [
       "                   count     mean      std    min     25%     50%      75%  \\\n",
       "ApplicantIncome    614.0  5403.46  6109.04  150.0  2877.5  3812.5  5795.00   \n",
       "CoapplicantIncome  614.0  1621.25  2926.25    0.0     0.0  1188.5  2297.25   \n",
       "LoanAmount         592.0   146.41    85.59    9.0   100.0   128.0   168.00   \n",
       "Loan_Amount_Term   600.0   342.00    65.12   12.0   360.0   360.0   360.00   \n",
       "Credit_History     564.0     0.84     0.36    0.0     1.0     1.0     1.00   \n",
       "\n",
       "                       max  \n",
       "ApplicantIncome    81000.0  \n",
       "CoapplicantIncome  41667.0  \n",
       "LoanAmount           700.0  \n",
       "Loan_Amount_Term     480.0  \n",
       "Credit_History         1.0  "
      ]
     },
     "execution_count": 7,
     "metadata": {},
     "output_type": "execute_result"
    }
   ],
   "source": [
    "#generate descriptive statistics for continuous variable\n",
    "loan.describe().round(2).T"
   ]
  },
  {
   "cell_type": "code",
   "execution_count": 8,
   "metadata": {},
   "outputs": [
    {
     "data": {
      "text/html": [
       "<div>\n",
       "<style scoped>\n",
       "    .dataframe tbody tr th:only-of-type {\n",
       "        vertical-align: middle;\n",
       "    }\n",
       "\n",
       "    .dataframe tbody tr th {\n",
       "        vertical-align: top;\n",
       "    }\n",
       "\n",
       "    .dataframe thead th {\n",
       "        text-align: right;\n",
       "    }\n",
       "</style>\n",
       "<table border=\"1\" class=\"dataframe\">\n",
       "  <thead>\n",
       "    <tr style=\"text-align: right;\">\n",
       "      <th></th>\n",
       "      <th>count</th>\n",
       "      <th>unique</th>\n",
       "      <th>top</th>\n",
       "      <th>freq</th>\n",
       "    </tr>\n",
       "  </thead>\n",
       "  <tbody>\n",
       "    <tr>\n",
       "      <th>Loan_ID</th>\n",
       "      <td>614</td>\n",
       "      <td>614</td>\n",
       "      <td>LP001116</td>\n",
       "      <td>1</td>\n",
       "    </tr>\n",
       "    <tr>\n",
       "      <th>Gender</th>\n",
       "      <td>601</td>\n",
       "      <td>2</td>\n",
       "      <td>Male</td>\n",
       "      <td>489</td>\n",
       "    </tr>\n",
       "    <tr>\n",
       "      <th>Married</th>\n",
       "      <td>611</td>\n",
       "      <td>2</td>\n",
       "      <td>Yes</td>\n",
       "      <td>398</td>\n",
       "    </tr>\n",
       "    <tr>\n",
       "      <th>Dependents</th>\n",
       "      <td>599</td>\n",
       "      <td>4</td>\n",
       "      <td>0</td>\n",
       "      <td>345</td>\n",
       "    </tr>\n",
       "    <tr>\n",
       "      <th>Education</th>\n",
       "      <td>614</td>\n",
       "      <td>2</td>\n",
       "      <td>Graduate</td>\n",
       "      <td>480</td>\n",
       "    </tr>\n",
       "    <tr>\n",
       "      <th>Self_Employed</th>\n",
       "      <td>582</td>\n",
       "      <td>2</td>\n",
       "      <td>No</td>\n",
       "      <td>500</td>\n",
       "    </tr>\n",
       "    <tr>\n",
       "      <th>Property_Area</th>\n",
       "      <td>614</td>\n",
       "      <td>3</td>\n",
       "      <td>Semiurban</td>\n",
       "      <td>233</td>\n",
       "    </tr>\n",
       "    <tr>\n",
       "      <th>Loan_Status</th>\n",
       "      <td>614</td>\n",
       "      <td>2</td>\n",
       "      <td>Y</td>\n",
       "      <td>422</td>\n",
       "    </tr>\n",
       "  </tbody>\n",
       "</table>\n",
       "</div>"
      ],
      "text/plain": [
       "              count unique        top freq\n",
       "Loan_ID         614    614   LP001116    1\n",
       "Gender          601      2       Male  489\n",
       "Married         611      2        Yes  398\n",
       "Dependents      599      4          0  345\n",
       "Education       614      2   Graduate  480\n",
       "Self_Employed   582      2         No  500\n",
       "Property_Area   614      3  Semiurban  233\n",
       "Loan_Status     614      2          Y  422"
      ]
     },
     "execution_count": 8,
     "metadata": {},
     "output_type": "execute_result"
    }
   ],
   "source": [
    "#generate descriptive statistics for categorical variable\n",
    "loan.select_dtypes(include='object').describe().T"
   ]
  },
  {
   "cell_type": "markdown",
   "metadata": {},
   "source": [
    "##### Univariate Analysis"
   ]
  },
  {
   "cell_type": "code",
   "execution_count": 9,
   "metadata": {},
   "outputs": [
    {
     "data": {
      "text/plain": [
       "Y    422\n",
       "N    192\n",
       "Name: Loan_Status, dtype: int64"
      ]
     },
     "execution_count": 9,
     "metadata": {},
     "output_type": "execute_result"
    }
   ],
   "source": [
    "#Distribution of Target Variable\n",
    "loan.Loan_Status.value_counts()"
   ]
  },
  {
   "cell_type": "code",
   "execution_count": 10,
   "metadata": {},
   "outputs": [
    {
     "data": {
      "image/png": "[encoded data removed]",
      "text/plain": [
       "<Figure size 216x216 with 1 Axes>"
      ]
     },
     "metadata": {},
     "output_type": "display_data"
    }
   ],
   "source": [
    "plt.figure(figsize = (3,3))\n",
    "loan.Loan_Status.value_counts(normalize = True).plot.pie(autopct = '%.2f',\n",
    "                                        labels = ['No', 'Yes'],\n",
    "                                        title = 'Distribution of Target Variable');"
   ]
  },
  {
   "cell_type": "code",
   "execution_count": 11,
   "metadata": {},
   "outputs": [
    {
     "data": {
      "image/png": "[encoded data removed]",
      "text/plain": [
       "<Figure size 1080x2160 with 27 Axes>"
      ]
     },
     "metadata": {
      "needs_background": "light"
     },
     "output_type": "display_data"
    }
   ],
   "source": [
    "#generate histogram of all contionous variables\n",
    "loan.hist(figsize=(15,30),layout=(9,3));"
   ]
  },
  {
   "cell_type": "code",
   "execution_count": 12,
   "metadata": {},
   "outputs": [
    {
     "name": "stderr",
     "output_type": "stream",
     "text": [
      "C:\\ProgramData\\Anaconda3\\lib\\site-packages\\seaborn\\distributions.py:2557: FutureWarning: `distplot` is a deprecated function and will be removed in a future version. Please adapt your code to use either `displot` (a figure-level function with similar flexibility) or `histplot` (an axes-level function for histograms).\n",
      "  warnings.warn(msg, FutureWarning)\n"
     ]
    },
    {
     "data": {
      "image/png": "[encoded data removed]",
      "text/plain": [
       "<Figure size 432x288 with 1 Axes>"
      ]
     },
     "metadata": {
      "needs_background": "light"
     },
     "output_type": "display_data"
    }
   ],
   "source": [
    "import scipy\n",
    "ax = sns.distplot(loan.LoanAmount,fit=scipy.stats.norm, kde=False, hist=True, color='b');"
   ]
  },
  {
   "cell_type": "code",
   "execution_count": 13,
   "metadata": {},
   "outputs": [],
   "source": [
    "## Plotting a Kernel Density Estimate (KDE)\n",
    "#A kernel density estimation (KDE) is a way to estimate the probability density function (PDF) \n",
    "#of the random variable that “underlies” our sample. KDE is a means of data smoothing.\n",
    "\n",
    "#sns.histplot(data=loan, x=\"LoanAmount\", kde=True, color='b');"
   ]
  },
  {
   "cell_type": "code",
   "execution_count": 14,
   "metadata": {},
   "outputs": [
    {
     "data": {
      "image/png": "[encoded data removed]",
      "text/plain": [
       "<Figure size 432x288 with 1 Axes>"
      ]
     },
     "metadata": {
      "needs_background": "light"
     },
     "output_type": "display_data"
    }
   ],
   "source": [
    "from scipy.stats import norm\n",
    "\n",
    "# Get the mean and standard deviation of column A\n",
    "mean_A, std_A = loan['LoanAmount'].mean(), loan['LoanAmount'].std()\n",
    "\n",
    "# Create a normal distribution curve using the mean and standard deviation of column\n",
    "y = norm.pdf(loan['LoanAmount'], mean_A, std_A)\n",
    "\n",
    "# Plot the normal distribution curve over the histogram\n",
    "plt.plot(loan['LoanAmount'], y, 'r', linewidth=2)\n",
    "\n",
    "# Set the plot title and labels\n",
    "plt.title('Normal distribution for LoanAmount')\n",
    "plt.xlabel('Values')\n",
    "plt.ylabel('Density')\n",
    "\n",
    "# Show the plot\n",
    "plt.show()"
   ]
  },
  {
   "cell_type": "markdown",
   "metadata": {},
   "source": [
    "##### Bi-variate Analysis"
   ]
  },
  {
   "cell_type": "code",
   "execution_count": 15,
   "metadata": {},
   "outputs": [
    {
     "data": {
      "image/png": "[encoded data removed]",
      "text/plain": [
       "<Figure size 432x288 with 1 Axes>"
      ]
     },
     "metadata": {
      "needs_background": "light"
     },
     "output_type": "display_data"
    }
   ],
   "source": [
    "ax = sns.boxplot(data = loan, x = 'Loan_Status', y = 'ApplicantIncome')"
   ]
  },
  {
   "cell_type": "code",
   "execution_count": 16,
   "metadata": {},
   "outputs": [
    {
     "data": {
      "image/png": "[encoded data removed]",
      "text/plain": [
       "<Figure size 432x288 with 1 Axes>"
      ]
     },
     "metadata": {
      "needs_background": "light"
     },
     "output_type": "display_data"
    }
   ],
   "source": [
    "ax = sns.boxplot(data = loan, x = 'Loan_Status', y = 'CoapplicantIncome')"
   ]
  },
  {
   "cell_type": "code",
   "execution_count": 17,
   "metadata": {},
   "outputs": [
    {
     "data": {
      "image/png": "[encoded data removed]",
      "text/plain": [
       "<Figure size 432x288 with 1 Axes>"
      ]
     },
     "metadata": {
      "needs_background": "light"
     },
     "output_type": "display_data"
    }
   ],
   "source": [
    "ax = sns.boxplot(data = loan, x = 'Loan_Status', y = 'LoanAmount')"
   ]
  },
  {
   "cell_type": "markdown",
   "metadata": {},
   "source": [
    "##### Crosstabulation of 'Gender' with Target variable - 'Loan_Status'"
   ]
  },
  {
   "cell_type": "code",
   "execution_count": 18,
   "metadata": {},
   "outputs": [
    {
     "data": {
      "text/html": [
       "<div>\n",
       "<style scoped>\n",
       "    .dataframe tbody tr th:only-of-type {\n",
       "        vertical-align: middle;\n",
       "    }\n",
       "\n",
       "    .dataframe tbody tr th {\n",
       "        vertical-align: top;\n",
       "    }\n",
       "\n",
       "    .dataframe thead th {\n",
       "        text-align: right;\n",
       "    }\n",
       "</style>\n",
       "<table border=\"1\" class=\"dataframe\">\n",
       "  <thead>\n",
       "    <tr style=\"text-align: right;\">\n",
       "      <th>Loan_Status</th>\n",
       "      <th>N</th>\n",
       "      <th>Y</th>\n",
       "    </tr>\n",
       "    <tr>\n",
       "      <th>Gender</th>\n",
       "      <th></th>\n",
       "      <th></th>\n",
       "    </tr>\n",
       "  </thead>\n",
       "  <tbody>\n",
       "    <tr>\n",
       "      <th>Female</th>\n",
       "      <td>0.197861</td>\n",
       "      <td>0.181159</td>\n",
       "    </tr>\n",
       "    <tr>\n",
       "      <th>Male</th>\n",
       "      <td>0.802139</td>\n",
       "      <td>0.818841</td>\n",
       "    </tr>\n",
       "  </tbody>\n",
       "</table>\n",
       "</div>"
      ],
      "text/plain": [
       "Loan_Status         N         Y\n",
       "Gender                         \n",
       "Female       0.197861  0.181159\n",
       "Male         0.802139  0.818841"
      ]
     },
     "execution_count": 18,
     "metadata": {},
     "output_type": "execute_result"
    }
   ],
   "source": [
    "gender_group = pd.crosstab(index = loan['Gender'], columns = loan['Loan_Status'], normalize=\"columns\")\n",
    "gender_group"
   ]
  },
  {
   "cell_type": "raw",
   "metadata": {},
   "source": [
    "✅️ ️ normalize='columns': convert to column %\n",
    "✅️ ️ normalize='index': convert to row %\n",
    "✅️ ️ normalize='all' or ️ normalize=True: convert to table %\n",
    "✅️ ️ margins=True: add totals (the type of total depends on normalize argument)"
   ]
  },
  {
   "cell_type": "code",
   "execution_count": 19,
   "metadata": {},
   "outputs": [
    {
     "data": {
      "text/plain": [
       "<Figure size 1008x360 with 0 Axes>"
      ]
     },
     "metadata": {},
     "output_type": "display_data"
    },
    {
     "data": {
      "image/png": "[encoded data removed]",
      "text/plain": [
       "<Figure size 432x288 with 1 Axes>"
      ]
     },
     "metadata": {
      "needs_background": "light"
     },
     "output_type": "display_data"
    }
   ],
   "source": [
    "plt.figure(figsize=(14,5))\n",
    "gender_group.plot.bar()\n",
    "plt.ylabel(\"Count\")\n",
    "plt.legend();"
   ]
  },
  {
   "cell_type": "markdown",
   "metadata": {},
   "source": [
    "##### Crosstabulation of 'Married' with Target variable - 'Loan_Status'"
   ]
  },
  {
   "cell_type": "code",
   "execution_count": 20,
   "metadata": {},
   "outputs": [
    {
     "data": {
      "text/html": [
       "<div>\n",
       "<style scoped>\n",
       "    .dataframe tbody tr th:only-of-type {\n",
       "        vertical-align: middle;\n",
       "    }\n",
       "\n",
       "    .dataframe tbody tr th {\n",
       "        vertical-align: top;\n",
       "    }\n",
       "\n",
       "    .dataframe thead th {\n",
       "        text-align: right;\n",
       "    }\n",
       "</style>\n",
       "<table border=\"1\" class=\"dataframe\">\n",
       "  <thead>\n",
       "    <tr style=\"text-align: right;\">\n",
       "      <th>Loan_Status</th>\n",
       "      <th>N</th>\n",
       "      <th>Y</th>\n",
       "    </tr>\n",
       "    <tr>\n",
       "      <th>Married</th>\n",
       "      <th></th>\n",
       "      <th></th>\n",
       "    </tr>\n",
       "  </thead>\n",
       "  <tbody>\n",
       "    <tr>\n",
       "      <th>No</th>\n",
       "      <td>0.411458</td>\n",
       "      <td>0.319809</td>\n",
       "    </tr>\n",
       "    <tr>\n",
       "      <th>Yes</th>\n",
       "      <td>0.588542</td>\n",
       "      <td>0.680191</td>\n",
       "    </tr>\n",
       "  </tbody>\n",
       "</table>\n",
       "</div>"
      ],
      "text/plain": [
       "Loan_Status         N         Y\n",
       "Married                        \n",
       "No           0.411458  0.319809\n",
       "Yes          0.588542  0.680191"
      ]
     },
     "execution_count": 20,
     "metadata": {},
     "output_type": "execute_result"
    }
   ],
   "source": [
    "Married_group = pd.crosstab(index = loan['Married'], columns = loan['Loan_Status'], normalize = 'columns')\n",
    "Married_group"
   ]
  },
  {
   "cell_type": "code",
   "execution_count": 21,
   "metadata": {},
   "outputs": [
    {
     "data": {
      "text/plain": [
       "<Figure size 1008x360 with 0 Axes>"
      ]
     },
     "metadata": {},
     "output_type": "display_data"
    },
    {
     "data": {
      "image/png": "[encoded data removed]",
      "text/plain": [
       "<Figure size 432x288 with 1 Axes>"
      ]
     },
     "metadata": {
      "needs_background": "light"
     },
     "output_type": "display_data"
    }
   ],
   "source": [
    "plt.figure(figsize=(14,5))\n",
    "Married_group.plot.bar()\n",
    "plt.ylabel(\"Count\")\n",
    "plt.legend();"
   ]
  },
  {
   "cell_type": "markdown",
   "metadata": {},
   "source": [
    "##### Crosstabulation of 'Dependents' with Target variable - 'Loan_Status'"
   ]
  },
  {
   "cell_type": "code",
   "execution_count": 22,
   "metadata": {},
   "outputs": [
    {
     "data": {
      "text/html": [
       "<div>\n",
       "<style scoped>\n",
       "    .dataframe tbody tr th:only-of-type {\n",
       "        vertical-align: middle;\n",
       "    }\n",
       "\n",
       "    .dataframe tbody tr th {\n",
       "        vertical-align: top;\n",
       "    }\n",
       "\n",
       "    .dataframe thead th {\n",
       "        text-align: right;\n",
       "    }\n",
       "</style>\n",
       "<table border=\"1\" class=\"dataframe\">\n",
       "  <thead>\n",
       "    <tr style=\"text-align: right;\">\n",
       "      <th>Loan_Status</th>\n",
       "      <th>N</th>\n",
       "      <th>Y</th>\n",
       "    </tr>\n",
       "    <tr>\n",
       "      <th>Dependents</th>\n",
       "      <th></th>\n",
       "      <th></th>\n",
       "    </tr>\n",
       "  </thead>\n",
       "  <tbody>\n",
       "    <tr>\n",
       "      <th>0</th>\n",
       "      <td>0.575269</td>\n",
       "      <td>0.576271</td>\n",
       "    </tr>\n",
       "    <tr>\n",
       "      <th>1</th>\n",
       "      <td>0.193548</td>\n",
       "      <td>0.159806</td>\n",
       "    </tr>\n",
       "    <tr>\n",
       "      <th>2</th>\n",
       "      <td>0.134409</td>\n",
       "      <td>0.184019</td>\n",
       "    </tr>\n",
       "    <tr>\n",
       "      <th>3+</th>\n",
       "      <td>0.096774</td>\n",
       "      <td>0.079903</td>\n",
       "    </tr>\n",
       "  </tbody>\n",
       "</table>\n",
       "</div>"
      ],
      "text/plain": [
       "Loan_Status         N         Y\n",
       "Dependents                     \n",
       "0            0.575269  0.576271\n",
       "1            0.193548  0.159806\n",
       "2            0.134409  0.184019\n",
       "3+           0.096774  0.079903"
      ]
     },
     "execution_count": 22,
     "metadata": {},
     "output_type": "execute_result"
    }
   ],
   "source": [
    "Dependents_group = pd.crosstab(index = loan['Dependents'], columns = loan['Loan_Status'], normalize = 'columns')\n",
    "Dependents_group"
   ]
  },
  {
   "cell_type": "code",
   "execution_count": 23,
   "metadata": {},
   "outputs": [
    {
     "data": {
      "text/plain": [
       "<Figure size 1008x360 with 0 Axes>"
      ]
     },
     "metadata": {},
     "output_type": "display_data"
    },
    {
     "data": {
      "image/png": "[encoded data removed]",
      "text/plain": [
       "<Figure size 432x288 with 1 Axes>"
      ]
     },
     "metadata": {
      "needs_background": "light"
     },
     "output_type": "display_data"
    }
   ],
   "source": [
    "plt.figure(figsize=(14,5))\n",
    "Dependents_group.plot.bar()\n",
    "plt.ylabel(\"Count\")\n",
    "plt.legend(bbox_to_anchor=(1,1), loc='upper left');"
   ]
  },
  {
   "cell_type": "markdown",
   "metadata": {},
   "source": [
    "##### Crosstabulation of 'Education' with Target variable - 'Loan_Status'"
   ]
  },
  {
   "cell_type": "code",
   "execution_count": 24,
   "metadata": {},
   "outputs": [
    {
     "data": {
      "text/html": [
       "<div>\n",
       "<style scoped>\n",
       "    .dataframe tbody tr th:only-of-type {\n",
       "        vertical-align: middle;\n",
       "    }\n",
       "\n",
       "    .dataframe tbody tr th {\n",
       "        vertical-align: top;\n",
       "    }\n",
       "\n",
       "    .dataframe thead th {\n",
       "        text-align: right;\n",
       "    }\n",
       "</style>\n",
       "<table border=\"1\" class=\"dataframe\">\n",
       "  <thead>\n",
       "    <tr style=\"text-align: right;\">\n",
       "      <th>Loan_Status</th>\n",
       "      <th>N</th>\n",
       "      <th>Y</th>\n",
       "    </tr>\n",
       "    <tr>\n",
       "      <th>Education</th>\n",
       "      <th></th>\n",
       "      <th></th>\n",
       "    </tr>\n",
       "  </thead>\n",
       "  <tbody>\n",
       "    <tr>\n",
       "      <th>Graduate</th>\n",
       "      <td>0.729167</td>\n",
       "      <td>0.805687</td>\n",
       "    </tr>\n",
       "    <tr>\n",
       "      <th>Not Graduate</th>\n",
       "      <td>0.270833</td>\n",
       "      <td>0.194313</td>\n",
       "    </tr>\n",
       "  </tbody>\n",
       "</table>\n",
       "</div>"
      ],
      "text/plain": [
       "Loan_Status          N         Y\n",
       "Education                       \n",
       "Graduate      0.729167  0.805687\n",
       "Not Graduate  0.270833  0.194313"
      ]
     },
     "execution_count": 24,
     "metadata": {},
     "output_type": "execute_result"
    }
   ],
   "source": [
    "Education_group = pd.crosstab(index = loan['Education'], columns = loan['Loan_Status'], normalize = 'columns')\n",
    "Education_group"
   ]
  },
  {
   "cell_type": "code",
   "execution_count": 25,
   "metadata": {},
   "outputs": [
    {
     "data": {
      "text/plain": [
       "<Figure size 1008x360 with 0 Axes>"
      ]
     },
     "metadata": {},
     "output_type": "display_data"
    },
    {
     "data": {
      "image/png": "[encoded data removed]",
      "text/plain": [
       "<Figure size 432x288 with 1 Axes>"
      ]
     },
     "metadata": {
      "needs_background": "light"
     },
     "output_type": "display_data"
    }
   ],
   "source": [
    "plt.figure(figsize=(14,5))\n",
    "Education_group.plot.bar()\n",
    "plt.ylabel(\"Count\")\n",
    "plt.legend();"
   ]
  },
  {
   "cell_type": "code",
   "execution_count": 26,
   "metadata": {},
   "outputs": [
    {
     "data": {
      "text/html": [
       "<div>\n",
       "<style scoped>\n",
       "    .dataframe tbody tr th:only-of-type {\n",
       "        vertical-align: middle;\n",
       "    }\n",
       "\n",
       "    .dataframe tbody tr th {\n",
       "        vertical-align: top;\n",
       "    }\n",
       "\n",
       "    .dataframe thead th {\n",
       "        text-align: right;\n",
       "    }\n",
       "</style>\n",
       "<table border=\"1\" class=\"dataframe\">\n",
       "  <thead>\n",
       "    <tr style=\"text-align: right;\">\n",
       "      <th>Loan_Status</th>\n",
       "      <th>N</th>\n",
       "      <th>Y</th>\n",
       "    </tr>\n",
       "    <tr>\n",
       "      <th>Self_Employed</th>\n",
       "      <th></th>\n",
       "      <th></th>\n",
       "    </tr>\n",
       "  </thead>\n",
       "  <tbody>\n",
       "    <tr>\n",
       "      <th>No</th>\n",
       "      <td>0.857923</td>\n",
       "      <td>0.859649</td>\n",
       "    </tr>\n",
       "    <tr>\n",
       "      <th>Yes</th>\n",
       "      <td>0.142077</td>\n",
       "      <td>0.140351</td>\n",
       "    </tr>\n",
       "  </tbody>\n",
       "</table>\n",
       "</div>"
      ],
      "text/plain": [
       "Loan_Status           N         Y\n",
       "Self_Employed                    \n",
       "No             0.857923  0.859649\n",
       "Yes            0.142077  0.140351"
      ]
     },
     "execution_count": 26,
     "metadata": {},
     "output_type": "execute_result"
    }
   ],
   "source": [
    "Self_Employed_group = pd.crosstab(index = loan['Self_Employed'], columns = loan['Loan_Status'], normalize = 'columns')\n",
    "Self_Employed_group"
   ]
  },
  {
   "cell_type": "code",
   "execution_count": 27,
   "metadata": {},
   "outputs": [
    {
     "data": {
      "text/html": [
       "<div>\n",
       "<style scoped>\n",
       "    .dataframe tbody tr th:only-of-type {\n",
       "        vertical-align: middle;\n",
       "    }\n",
       "\n",
       "    .dataframe tbody tr th {\n",
       "        vertical-align: top;\n",
       "    }\n",
       "\n",
       "    .dataframe thead th {\n",
       "        text-align: right;\n",
       "    }\n",
       "</style>\n",
       "<table border=\"1\" class=\"dataframe\">\n",
       "  <thead>\n",
       "    <tr style=\"text-align: right;\">\n",
       "      <th>Loan_Status</th>\n",
       "      <th>N</th>\n",
       "      <th>Y</th>\n",
       "    </tr>\n",
       "    <tr>\n",
       "      <th>Property_Area</th>\n",
       "      <th></th>\n",
       "      <th></th>\n",
       "    </tr>\n",
       "  </thead>\n",
       "  <tbody>\n",
       "    <tr>\n",
       "      <th>Rural</th>\n",
       "      <td>0.359375</td>\n",
       "      <td>0.260664</td>\n",
       "    </tr>\n",
       "    <tr>\n",
       "      <th>Semiurban</th>\n",
       "      <td>0.281250</td>\n",
       "      <td>0.424171</td>\n",
       "    </tr>\n",
       "    <tr>\n",
       "      <th>Urban</th>\n",
       "      <td>0.359375</td>\n",
       "      <td>0.315166</td>\n",
       "    </tr>\n",
       "  </tbody>\n",
       "</table>\n",
       "</div>"
      ],
      "text/plain": [
       "Loan_Status           N         Y\n",
       "Property_Area                    \n",
       "Rural          0.359375  0.260664\n",
       "Semiurban      0.281250  0.424171\n",
       "Urban          0.359375  0.315166"
      ]
     },
     "execution_count": 27,
     "metadata": {},
     "output_type": "execute_result"
    }
   ],
   "source": [
    "Property_Area_group = pd.crosstab(index = loan['Property_Area'], columns = loan['Loan_Status'], normalize = 'columns')\n",
    "Property_Area_group"
   ]
  },
  {
   "cell_type": "code",
   "execution_count": 28,
   "metadata": {},
   "outputs": [
    {
     "data": {
      "text/plain": [
       "<Figure size 1008x360 with 0 Axes>"
      ]
     },
     "metadata": {},
     "output_type": "display_data"
    },
    {
     "data": {
      "image/png": "[encoded data removed]",
      "text/plain": [
       "<Figure size 432x288 with 1 Axes>"
      ]
     },
     "metadata": {
      "needs_background": "light"
     },
     "output_type": "display_data"
    }
   ],
   "source": [
    "plt.figure(figsize=(14,5))\n",
    "Property_Area_group.plot.bar()\n",
    "plt.ylabel(\"Count\")\n",
    "plt.legend();"
   ]
  },
  {
   "cell_type": "markdown",
   "metadata": {},
   "source": [
    "##### Multi-variate Analysis"
   ]
  },
  {
   "cell_type": "code",
   "execution_count": 29,
   "metadata": {},
   "outputs": [
    {
     "data": {
      "image/png": "[encoded data removed]",
      "text/plain": [
       "<Figure size 432x288 with 2 Axes>"
      ]
     },
     "metadata": {
      "needs_background": "light"
     },
     "output_type": "display_data"
    }
   ],
   "source": [
    "# Calculate the correlation matrix\n",
    "corr_matrix = loan.corr()\n",
    "\n",
    "# Create a heatmap using seaborn to visualize the correlation matrix\n",
    "sns.heatmap(corr_matrix, annot=True, cmap='coolwarm')\n",
    "\n",
    "# Set the plot title\n",
    "plt.title('Correlation Matrix');"
   ]
  },
  {
   "cell_type": "code",
   "execution_count": 30,
   "metadata": {},
   "outputs": [
    {
     "data": {
      "image/png": "[encoded data removed]",
      "text/plain": [
       "<Figure size 1440x504 with 1 Axes>"
      ]
     },
     "metadata": {
      "needs_background": "light"
     },
     "output_type": "display_data"
    }
   ],
   "source": [
    "plt.figure(figsize = (20,7))\n",
    "ax = sns.scatterplot(data = loan, x = 'LoanAmount', y = 'ApplicantIncome',\n",
    "                    hue = 'Loan_Status',\n",
    "                    style = 'Loan_Status',\n",
    "                    markers = ['^','o'],\n",
    "                    s = 150\n",
    "                    )\n",
    "ax = plt.legend(bbox_to_anchor = (1.02, 1), loc = 'upper left');"
   ]
  },
  {
   "cell_type": "markdown",
   "metadata": {
    "colab_type": "text",
    "id": "QdxTiBwfgUQc"
   },
   "source": [
    "### Step2 : Pre-processing Steps\n",
    "\n",
    "<ol>2.1 Filling the missing values : Categorical with Mode and Continous with Mean</ol>\n",
    "<ol>2.2 Converting categories to numbers</ol>\n",
    "<ol>2.3 Bring all the variables in range 0 to 1</ol>"
   ]
  },
  {
   "cell_type": "markdown",
   "metadata": {
    "colab_type": "text",
    "id": "grhWzIVQgURr"
   },
   "source": [
    "#### 2.1 Filling the missing values"
   ]
  },
  {
   "cell_type": "markdown",
   "metadata": {
    "colab_type": "text",
    "id": "beUijuXWgURs"
   },
   "source": [
    "##### Categorical Data: Mode"
   ]
  },
  {
   "cell_type": "code",
   "execution_count": 31,
   "metadata": {
    "colab": {},
    "colab_type": "code",
    "id": "XWTgHdRQgURw"
   },
   "outputs": [],
   "source": [
    "# filling missing values of categorical variables with mode\n",
    "\n",
    "loan['Gender'].fillna(loan['Gender'].mode()[0], inplace=True)\n",
    "\n",
    "loan['Married'].fillna(loan['Married'].mode()[0], inplace=True)\n",
    "\n",
    "loan['Dependents'].fillna(loan['Dependents'].mode()[0], inplace=True)\n",
    "\n",
    "loan['Self_Employed'].fillna(loan['Self_Employed'].mode()[0], inplace=True)\n",
    "\n",
    "loan['Loan_Amount_Term'].fillna(loan['Loan_Amount_Term'].mode()[0], inplace=True)\n",
    "\n",
    "loan['Credit_History'].fillna(loan['Credit_History'].mode()[0], inplace=True)"
   ]
  },
  {
   "cell_type": "markdown",
   "metadata": {
    "colab_type": "text",
    "id": "XO36J4FRgUR5"
   },
   "source": [
    "##### Continuous Data: Mean"
   ]
  },
  {
   "cell_type": "code",
   "execution_count": 32,
   "metadata": {
    "colab": {},
    "colab_type": "code",
    "id": "Eq72VAhCgUR9"
   },
   "outputs": [],
   "source": [
    "# filling missing values of continuous variables with mean\n",
    "loan['LoanAmount'].fillna(loan['LoanAmount'].mean(), inplace=True)"
   ]
  },
  {
   "cell_type": "code",
   "execution_count": 33,
   "metadata": {
    "colab": {
     "base_uri": "https://localhost:8080/",
     "height": 260
    },
    "colab_type": "code",
    "id": "aTwMX3f5gUSF",
    "outputId": "67d696da-cc20-476b-86f9-6ca4a0031e9d",
    "scrolled": true
   },
   "outputs": [
    {
     "data": {
      "text/plain": [
       "Loan_ID              0\n",
       "Gender               0\n",
       "Married              0\n",
       "Dependents           0\n",
       "Education            0\n",
       "Self_Employed        0\n",
       "ApplicantIncome      0\n",
       "CoapplicantIncome    0\n",
       "LoanAmount           0\n",
       "Loan_Amount_Term     0\n",
       "Credit_History       0\n",
       "Property_Area        0\n",
       "Loan_Status          0\n",
       "dtype: int64"
      ]
     },
     "execution_count": 33,
     "metadata": {},
     "output_type": "execute_result"
    }
   ],
   "source": [
    "# checking missing values after imputation\n",
    "loan.isnull().sum()"
   ]
  },
  {
   "cell_type": "markdown",
   "metadata": {
    "colab_type": "text",
    "id": "k_SP_5W9gUSN"
   },
   "source": [
    "#### 2.2 Converting categories-string-values to numberic values"
   ]
  },
  {
   "cell_type": "code",
   "execution_count": 34,
   "metadata": {
    "colab": {},
    "colab_type": "code",
    "id": "ultMrSJqgUSS"
   },
   "outputs": [],
   "source": [
    "# converting the categories into numbers using map function\n",
    "loan['Gender'] = loan['Gender'].map({'Male': 0, 'Female': 1})\n",
    "loan['Married'] = loan['Married'].map({'No': 0, 'Yes': 1})\n",
    "loan['Dependents'] = loan['Dependents'].map({'0': 0, '1': 1, '2': 2, '3+': 3})\n",
    "loan['Education'] = loan['Education'].map({'Graduate': 1, 'Not Graduate': 0})\n",
    "loan['Self_Employed'] = loan['Self_Employed'].map({'No': 0, 'Yes': 1})\n",
    "loan['Property_Area'] = loan['Property_Area'].map({'Rural': 0, 'Semiurban': 1, 'Urban': 2})\n",
    "loan['Loan_Status'] = loan['Loan_Status'].map({'N': 0, 'Y': 1})"
   ]
  },
  {
   "cell_type": "code",
   "execution_count": 35,
   "metadata": {
    "colab": {
     "base_uri": "https://localhost:8080/",
     "height": 243
    },
    "colab_type": "code",
    "id": "kiMBtzIO9DCQ",
    "outputId": "27d86f1e-0a70-4349-bd3c-15c897649fea"
   },
   "outputs": [
    {
     "data": {
      "text/html": [
       "<div>\n",
       "<style scoped>\n",
       "    .dataframe tbody tr th:only-of-type {\n",
       "        vertical-align: middle;\n",
       "    }\n",
       "\n",
       "    .dataframe tbody tr th {\n",
       "        vertical-align: top;\n",
       "    }\n",
       "\n",
       "    .dataframe thead th {\n",
       "        text-align: right;\n",
       "    }\n",
       "</style>\n",
       "<table border=\"1\" class=\"dataframe\">\n",
       "  <thead>\n",
       "    <tr style=\"text-align: right;\">\n",
       "      <th></th>\n",
       "      <th>Loan_ID</th>\n",
       "      <th>Gender</th>\n",
       "      <th>Married</th>\n",
       "      <th>Dependents</th>\n",
       "      <th>Education</th>\n",
       "      <th>Self_Employed</th>\n",
       "      <th>ApplicantIncome</th>\n",
       "      <th>CoapplicantIncome</th>\n",
       "      <th>LoanAmount</th>\n",
       "      <th>Loan_Amount_Term</th>\n",
       "      <th>Credit_History</th>\n",
       "      <th>Property_Area</th>\n",
       "      <th>Loan_Status</th>\n",
       "    </tr>\n",
       "  </thead>\n",
       "  <tbody>\n",
       "    <tr>\n",
       "      <th>0</th>\n",
       "      <td>LP001002</td>\n",
       "      <td>0</td>\n",
       "      <td>0</td>\n",
       "      <td>0</td>\n",
       "      <td>1</td>\n",
       "      <td>0</td>\n",
       "      <td>5849</td>\n",
       "      <td>0.0</td>\n",
       "      <td>146.412162</td>\n",
       "      <td>360.0</td>\n",
       "      <td>1.0</td>\n",
       "      <td>2</td>\n",
       "      <td>1</td>\n",
       "    </tr>\n",
       "    <tr>\n",
       "      <th>1</th>\n",
       "      <td>LP001003</td>\n",
       "      <td>0</td>\n",
       "      <td>1</td>\n",
       "      <td>1</td>\n",
       "      <td>1</td>\n",
       "      <td>0</td>\n",
       "      <td>4583</td>\n",
       "      <td>1508.0</td>\n",
       "      <td>128.000000</td>\n",
       "      <td>360.0</td>\n",
       "      <td>1.0</td>\n",
       "      <td>0</td>\n",
       "      <td>0</td>\n",
       "    </tr>\n",
       "    <tr>\n",
       "      <th>2</th>\n",
       "      <td>LP001005</td>\n",
       "      <td>0</td>\n",
       "      <td>1</td>\n",
       "      <td>0</td>\n",
       "      <td>1</td>\n",
       "      <td>1</td>\n",
       "      <td>3000</td>\n",
       "      <td>0.0</td>\n",
       "      <td>66.000000</td>\n",
       "      <td>360.0</td>\n",
       "      <td>1.0</td>\n",
       "      <td>2</td>\n",
       "      <td>1</td>\n",
       "    </tr>\n",
       "    <tr>\n",
       "      <th>3</th>\n",
       "      <td>LP001006</td>\n",
       "      <td>0</td>\n",
       "      <td>1</td>\n",
       "      <td>0</td>\n",
       "      <td>0</td>\n",
       "      <td>0</td>\n",
       "      <td>2583</td>\n",
       "      <td>2358.0</td>\n",
       "      <td>120.000000</td>\n",
       "      <td>360.0</td>\n",
       "      <td>1.0</td>\n",
       "      <td>2</td>\n",
       "      <td>1</td>\n",
       "    </tr>\n",
       "    <tr>\n",
       "      <th>4</th>\n",
       "      <td>LP001008</td>\n",
       "      <td>0</td>\n",
       "      <td>0</td>\n",
       "      <td>0</td>\n",
       "      <td>1</td>\n",
       "      <td>0</td>\n",
       "      <td>6000</td>\n",
       "      <td>0.0</td>\n",
       "      <td>141.000000</td>\n",
       "      <td>360.0</td>\n",
       "      <td>1.0</td>\n",
       "      <td>2</td>\n",
       "      <td>1</td>\n",
       "    </tr>\n",
       "  </tbody>\n",
       "</table>\n",
       "</div>"
      ],
      "text/plain": [
       "    Loan_ID  Gender  Married  Dependents  Education  Self_Employed  \\\n",
       "0  LP001002       0        0           0          1              0   \n",
       "1  LP001003       0        1           1          1              0   \n",
       "2  LP001005       0        1           0          1              1   \n",
       "3  LP001006       0        1           0          0              0   \n",
       "4  LP001008       0        0           0          1              0   \n",
       "\n",
       "   ApplicantIncome  CoapplicantIncome  LoanAmount  Loan_Amount_Term  \\\n",
       "0             5849                0.0  146.412162             360.0   \n",
       "1             4583             1508.0  128.000000             360.0   \n",
       "2             3000                0.0   66.000000             360.0   \n",
       "3             2583             2358.0  120.000000             360.0   \n",
       "4             6000                0.0  141.000000             360.0   \n",
       "\n",
       "   Credit_History  Property_Area  Loan_Status  \n",
       "0             1.0              2            1  \n",
       "1             1.0              0            0  \n",
       "2             1.0              2            1  \n",
       "3             1.0              2            1  \n",
       "4             1.0              2            1  "
      ]
     },
     "execution_count": 35,
     "metadata": {},
     "output_type": "execute_result"
    }
   ],
   "source": [
    "loan.head()"
   ]
  },
  {
   "cell_type": "markdown",
   "metadata": {
    "colab_type": "text",
    "id": "gdBmXyyVgUSY"
   },
   "source": [
    "#### 2.3 Bringing all the variables in range 0 to 1"
   ]
  },
  {
   "cell_type": "markdown",
   "metadata": {
    "colab_type": "text",
    "id": "2ObzQqyYgUSc"
   },
   "source": [
    "<img src='https://drive.google.com/uc?id=1Z7wN2BE8CDSYIJly5l0K9uqYdj9WUo3f'>"
   ]
  },
  {
   "cell_type": "code",
   "execution_count": 36,
   "metadata": {
    "colab": {},
    "colab_type": "code",
    "id": "cg_SZR8RgUSe"
   },
   "outputs": [],
   "source": [
    "# bringing variables in the range 0 to 1\n",
    "loan['Dependents']=(loan['Dependents']-loan['Dependents'].min())/(loan['Dependents'].max()-loan['Dependents'].min())"
   ]
  },
  {
   "cell_type": "code",
   "execution_count": 37,
   "metadata": {
    "colab": {},
    "colab_type": "code",
    "id": "i_dy8JGZgUSm"
   },
   "outputs": [],
   "source": [
    "# applying for loop to bring all the variables in range 0 to 1\n",
    "for i in loan.columns[1:]:\n",
    "    loan[i] = (loan[i] - loan[i].min()) / (loan[i].max() - loan[i].min())"
   ]
  },
  {
   "cell_type": "code",
   "execution_count": 38,
   "metadata": {},
   "outputs": [],
   "source": [
    "# Droping the additional variable - Loan_ID\n",
    "loan.drop('Loan_ID', axis = 1, inplace = True)"
   ]
  },
  {
   "cell_type": "code",
   "execution_count": 39,
   "metadata": {},
   "outputs": [
    {
     "data": {
      "text/html": [
       "<div>\n",
       "<style scoped>\n",
       "    .dataframe tbody tr th:only-of-type {\n",
       "        vertical-align: middle;\n",
       "    }\n",
       "\n",
       "    .dataframe tbody tr th {\n",
       "        vertical-align: top;\n",
       "    }\n",
       "\n",
       "    .dataframe thead th {\n",
       "        text-align: right;\n",
       "    }\n",
       "</style>\n",
       "<table border=\"1\" class=\"dataframe\">\n",
       "  <thead>\n",
       "    <tr style=\"text-align: right;\">\n",
       "      <th></th>\n",
       "      <th>Gender</th>\n",
       "      <th>Married</th>\n",
       "      <th>Dependents</th>\n",
       "      <th>Education</th>\n",
       "      <th>Self_Employed</th>\n",
       "      <th>ApplicantIncome</th>\n",
       "      <th>CoapplicantIncome</th>\n",
       "      <th>LoanAmount</th>\n",
       "      <th>Loan_Amount_Term</th>\n",
       "      <th>Credit_History</th>\n",
       "      <th>Property_Area</th>\n",
       "      <th>Loan_Status</th>\n",
       "    </tr>\n",
       "  </thead>\n",
       "  <tbody>\n",
       "    <tr>\n",
       "      <th>0</th>\n",
       "      <td>0.0</td>\n",
       "      <td>0.0</td>\n",
       "      <td>0.000000</td>\n",
       "      <td>1.0</td>\n",
       "      <td>0.0</td>\n",
       "      <td>0.070489</td>\n",
       "      <td>0.000000</td>\n",
       "      <td>0.198860</td>\n",
       "      <td>0.74359</td>\n",
       "      <td>1.0</td>\n",
       "      <td>1.0</td>\n",
       "      <td>1.0</td>\n",
       "    </tr>\n",
       "    <tr>\n",
       "      <th>1</th>\n",
       "      <td>0.0</td>\n",
       "      <td>1.0</td>\n",
       "      <td>0.333333</td>\n",
       "      <td>1.0</td>\n",
       "      <td>0.0</td>\n",
       "      <td>0.054830</td>\n",
       "      <td>0.036192</td>\n",
       "      <td>0.172214</td>\n",
       "      <td>0.74359</td>\n",
       "      <td>1.0</td>\n",
       "      <td>0.0</td>\n",
       "      <td>0.0</td>\n",
       "    </tr>\n",
       "    <tr>\n",
       "      <th>2</th>\n",
       "      <td>0.0</td>\n",
       "      <td>1.0</td>\n",
       "      <td>0.000000</td>\n",
       "      <td>1.0</td>\n",
       "      <td>1.0</td>\n",
       "      <td>0.035250</td>\n",
       "      <td>0.000000</td>\n",
       "      <td>0.082489</td>\n",
       "      <td>0.74359</td>\n",
       "      <td>1.0</td>\n",
       "      <td>1.0</td>\n",
       "      <td>1.0</td>\n",
       "    </tr>\n",
       "    <tr>\n",
       "      <th>3</th>\n",
       "      <td>0.0</td>\n",
       "      <td>1.0</td>\n",
       "      <td>0.000000</td>\n",
       "      <td>0.0</td>\n",
       "      <td>0.0</td>\n",
       "      <td>0.030093</td>\n",
       "      <td>0.056592</td>\n",
       "      <td>0.160637</td>\n",
       "      <td>0.74359</td>\n",
       "      <td>1.0</td>\n",
       "      <td>1.0</td>\n",
       "      <td>1.0</td>\n",
       "    </tr>\n",
       "    <tr>\n",
       "      <th>4</th>\n",
       "      <td>0.0</td>\n",
       "      <td>0.0</td>\n",
       "      <td>0.000000</td>\n",
       "      <td>1.0</td>\n",
       "      <td>0.0</td>\n",
       "      <td>0.072356</td>\n",
       "      <td>0.000000</td>\n",
       "      <td>0.191027</td>\n",
       "      <td>0.74359</td>\n",
       "      <td>1.0</td>\n",
       "      <td>1.0</td>\n",
       "      <td>1.0</td>\n",
       "    </tr>\n",
       "  </tbody>\n",
       "</table>\n",
       "</div>"
      ],
      "text/plain": [
       "   Gender  Married  Dependents  Education  Self_Employed  ApplicantIncome  \\\n",
       "0     0.0      0.0    0.000000        1.0            0.0         0.070489   \n",
       "1     0.0      1.0    0.333333        1.0            0.0         0.054830   \n",
       "2     0.0      1.0    0.000000        1.0            1.0         0.035250   \n",
       "3     0.0      1.0    0.000000        0.0            0.0         0.030093   \n",
       "4     0.0      0.0    0.000000        1.0            0.0         0.072356   \n",
       "\n",
       "   CoapplicantIncome  LoanAmount  Loan_Amount_Term  Credit_History  \\\n",
       "0           0.000000    0.198860           0.74359             1.0   \n",
       "1           0.036192    0.172214           0.74359             1.0   \n",
       "2           0.000000    0.082489           0.74359             1.0   \n",
       "3           0.056592    0.160637           0.74359             1.0   \n",
       "4           0.000000    0.191027           0.74359             1.0   \n",
       "\n",
       "   Property_Area  Loan_Status  \n",
       "0            1.0          1.0  \n",
       "1            0.0          0.0  \n",
       "2            1.0          1.0  \n",
       "3            1.0          1.0  \n",
       "4            1.0          1.0  "
      ]
     },
     "execution_count": 39,
     "metadata": {},
     "output_type": "execute_result"
    }
   ],
   "source": [
    "# again looking at first five rows of post-processed data\n",
    "loan.head()"
   ]
  },
  {
   "cell_type": "markdown",
   "metadata": {},
   "source": [
    "### Step 3 : Segregate the data into Features(X) and Target(y) and later perform Train, Validation & Test splits"
   ]
  },
  {
   "cell_type": "code",
   "execution_count": 40,
   "metadata": {},
   "outputs": [
    {
     "data": {
      "text/plain": [
       "((614, 11), (614,))"
      ]
     },
     "execution_count": 40,
     "metadata": {},
     "output_type": "execute_result"
    }
   ],
   "source": [
    "# Segregate the data into Features(X) and Target(y)\n",
    "X = loan.drop('Loan_Status',  axis = 1)\n",
    "y = loan['Loan_Status']\n",
    "X.shape, y.shape"
   ]
  },
  {
   "cell_type": "code",
   "execution_count": 41,
   "metadata": {},
   "outputs": [],
   "source": [
    "from sklearn.model_selection import train_test_split\n",
    "\n",
    "X_train, X_test, y_train, y_test = train_test_split(X, y, test_size = 0.3, random_state = 1234, stratify = y)\n",
    "X_val, X_test, y_val, y_test = train_test_split(X_test, y_test, test_size = 0.5, random_state = 1234, stratify = y_test)"
   ]
  },
  {
   "cell_type": "code",
   "execution_count": 42,
   "metadata": {},
   "outputs": [
    {
     "name": "stdout",
     "output_type": "stream",
     "text": [
      "(429, 11)\n",
      "(92, 11)\n",
      "(93, 11)\n",
      "(429,)\n",
      "(92,)\n",
      "(93,)\n"
     ]
    }
   ],
   "source": [
    "for i in [X_train, X_val, X_test, y_train, y_val, y_test]:\n",
    "    print(i.shape)"
   ]
  },
  {
   "cell_type": "markdown",
   "metadata": {},
   "source": [
    "### Step 4 : Try Multiple algorithms of Machine Learning and Select the champion(best) model"
   ]
  },
  {
   "cell_type": "markdown",
   "metadata": {},
   "source": [
    "#### Step 4.1 : Create a Model with Decision Tree and Prune the classification tree with Hyperparameter Tunning"
   ]
  },
  {
   "cell_type": "code",
   "execution_count": 43,
   "metadata": {},
   "outputs": [],
   "source": [
    "from sklearn.tree import DecisionTreeClassifier\n",
    "DT = DecisionTreeClassifier(random_state = 1234)\n",
    "DT_model = DT.fit(X_train, y_train)"
   ]
  },
  {
   "cell_type": "code",
   "execution_count": 44,
   "metadata": {},
   "outputs": [
    {
     "data": {
      "text/plain": [
       "1.0"
      ]
     },
     "execution_count": 44,
     "metadata": {},
     "output_type": "execute_result"
    }
   ],
   "source": [
    "DT_model.score(X_train, y_train)"
   ]
  },
  {
   "cell_type": "code",
   "execution_count": 45,
   "metadata": {},
   "outputs": [
    {
     "data": {
      "text/plain": [
       "0.6956521739130435"
      ]
     },
     "execution_count": 45,
     "metadata": {},
     "output_type": "execute_result"
    }
   ],
   "source": [
    "DT_model.score(X_val, y_val)"
   ]
  },
  {
   "cell_type": "code",
   "execution_count": 46,
   "metadata": {},
   "outputs": [
    {
     "data": {
      "text/plain": [
       "0.6129032258064516"
      ]
     },
     "execution_count": 46,
     "metadata": {},
     "output_type": "execute_result"
    }
   ],
   "source": [
    "DT_model.score(X_test, y_test)"
   ]
  },
  {
   "cell_type": "markdown",
   "metadata": {},
   "source": [
    "##### Prune the classification tree with Hyperparameter Tunning"
   ]
  },
  {
   "cell_type": "code",
   "execution_count": 47,
   "metadata": {},
   "outputs": [
    {
     "data": {
      "image/png": "[encoded data removed]",
      "text/plain": [
       "<Figure size 432x288 with 1 Axes>"
      ]
     },
     "metadata": {
      "needs_background": "light"
     },
     "output_type": "display_data"
    }
   ],
   "source": [
    "importance = DT_model.feature_importances_\n",
    "feature_importance = pd.Series(importance, index = X.columns)\n",
    "feature_importance.plot(kind = 'bar')\n",
    "plt.ylabel('Importance');"
   ]
  },
  {
   "cell_type": "code",
   "execution_count": 48,
   "metadata": {},
   "outputs": [],
   "source": [
    "grid = {'max_depth': [2, 3, 4, 5],\n",
    "         'min_samples_split': [2, 3, 4],\n",
    "         'min_samples_leaf': range(1, 7)}"
   ]
  },
  {
   "cell_type": "code",
   "execution_count": 49,
   "metadata": {},
   "outputs": [
    {
     "data": {
      "text/plain": [
       "GridSearchCV(cv=None, error_score=nan,\n",
       "             estimator=DecisionTreeClassifier(ccp_alpha=0.0, class_weight=None,\n",
       "                                              criterion='gini', max_depth=None,\n",
       "                                              max_features=None,\n",
       "                                              max_leaf_nodes=None,\n",
       "                                              min_impurity_decrease=0.0,\n",
       "                                              min_impurity_split=None,\n",
       "                                              min_samples_leaf=1,\n",
       "                                              min_samples_split=2,\n",
       "                                              min_weight_fraction_leaf=0.0,\n",
       "                                              presort='deprecated',\n",
       "                                              random_state=1234,\n",
       "                                              splitter='best'),\n",
       "             iid='deprecated', n_jobs=None,\n",
       "             param_grid={'max_depth': [2, 3, 4, 5],\n",
       "                         'min_samples_leaf': range(1, 7),\n",
       "                         'min_samples_split': [2, 3, 4]},\n",
       "             pre_dispatch='2*n_jobs', refit=True, return_train_score=False,\n",
       "             scoring=None, verbose=0)"
      ]
     },
     "execution_count": 49,
     "metadata": {},
     "output_type": "execute_result"
    }
   ],
   "source": [
    "from sklearn.model_selection import GridSearchCV\n",
    "classifier = DecisionTreeClassifier(random_state = 1234)\n",
    "DT_CV = GridSearchCV(estimator = classifier, param_grid = grid)\n",
    "DT_CV.fit(X_train, y_train)"
   ]
  },
  {
   "cell_type": "code",
   "execution_count": 50,
   "metadata": {},
   "outputs": [
    {
     "data": {
      "text/plain": [
       "DecisionTreeClassifier(ccp_alpha=0.0, class_weight=None, criterion='gini',\n",
       "                       max_depth=2, max_features=None, max_leaf_nodes=None,\n",
       "                       min_impurity_decrease=0.0, min_impurity_split=None,\n",
       "                       min_samples_leaf=6, min_samples_split=2,\n",
       "                       min_weight_fraction_leaf=0.0, presort='deprecated',\n",
       "                       random_state=1234, splitter='best')"
      ]
     },
     "execution_count": 50,
     "metadata": {},
     "output_type": "execute_result"
    }
   ],
   "source": [
    "DT_CV.best_estimator_"
   ]
  },
  {
   "cell_type": "code",
   "execution_count": 51,
   "metadata": {},
   "outputs": [],
   "source": [
    "DT_CV_model = DT_CV.fit(X_train, y_train.values.ravel())"
   ]
  },
  {
   "cell_type": "code",
   "execution_count": 52,
   "metadata": {},
   "outputs": [
    {
     "data": {
      "text/plain": [
       "0.8321678321678322"
      ]
     },
     "execution_count": 52,
     "metadata": {},
     "output_type": "execute_result"
    }
   ],
   "source": [
    "DT_CV_model.score(X_train, y_train)"
   ]
  },
  {
   "cell_type": "code",
   "execution_count": 53,
   "metadata": {},
   "outputs": [
    {
     "data": {
      "text/plain": [
       "0.7934782608695652"
      ]
     },
     "execution_count": 53,
     "metadata": {},
     "output_type": "execute_result"
    }
   ],
   "source": [
    "DT_CV_model.score(X_val, y_val)"
   ]
  },
  {
   "cell_type": "markdown",
   "metadata": {},
   "source": [
    "#### Step 4.2 : Create a Model with Logistic Regression and perform Hyperparameter Tunning"
   ]
  },
  {
   "cell_type": "code",
   "execution_count": 54,
   "metadata": {
    "colab": {},
    "colab_type": "code",
    "id": "_DUj_ODL9t-D"
   },
   "outputs": [],
   "source": [
    "from sklearn.linear_model import LogisticRegression\n",
    "from sklearn.model_selection import GridSearchCV\n",
    "import warnings\n",
    "warnings.filterwarnings('ignore', category=FutureWarning)\n",
    "warnings.filterwarnings('ignore', category=DeprecationWarning)"
   ]
  },
  {
   "cell_type": "code",
   "execution_count": 55,
   "metadata": {},
   "outputs": [],
   "source": [
    "LR = LogisticRegression(random_state = 1234)\n",
    "LR_model = LR.fit(X_train, y_train)"
   ]
  },
  {
   "cell_type": "code",
   "execution_count": 56,
   "metadata": {},
   "outputs": [
    {
     "data": {
      "text/plain": [
       "0.8275058275058275"
      ]
     },
     "execution_count": 56,
     "metadata": {},
     "output_type": "execute_result"
    }
   ],
   "source": [
    "LR_model.score(X_train, y_train)"
   ]
  },
  {
   "cell_type": "code",
   "execution_count": 57,
   "metadata": {},
   "outputs": [
    {
     "data": {
      "text/plain": [
       "0.7934782608695652"
      ]
     },
     "execution_count": 57,
     "metadata": {},
     "output_type": "execute_result"
    }
   ],
   "source": [
    "LR_model.score(X_val, y_val)"
   ]
  },
  {
   "cell_type": "markdown",
   "metadata": {},
   "source": [
    "##### Hyperparameter Tunning"
   ]
  },
  {
   "cell_type": "code",
   "execution_count": 58,
   "metadata": {},
   "outputs": [],
   "source": [
    "def print_results(results):\n",
    "    print('BEST PARAMS: {}\\n'.format(results.best_params_))\n",
    "\n",
    "    means = results.cv_results_['mean_test_score']\n",
    "    stds = results.cv_results_['std_test_score']\n",
    "    for mean, std, params in zip(means, stds, results.cv_results_['params']):\n",
    "        print('{} (+/-{}) for {}'.format(round(mean, 3), round(std * 2, 3), params))"
   ]
  },
  {
   "cell_type": "code",
   "execution_count": 59,
   "metadata": {},
   "outputs": [
    {
     "name": "stdout",
     "output_type": "stream",
     "text": [
      "BEST PARAMS: {'C': 100}\n",
      "\n",
      "0.688 (+/-0.006) for {'C': 0.001}\n",
      "0.688 (+/-0.006) for {'C': 0.01}\n",
      "0.828 (+/-0.039) for {'C': 0.1}\n",
      "0.828 (+/-0.039) for {'C': 1}\n",
      "0.828 (+/-0.047) for {'C': 10}\n",
      "0.83 (+/-0.049) for {'C': 100}\n",
      "0.83 (+/-0.049) for {'C': 1000}\n"
     ]
    }
   ],
   "source": [
    "LR = LogisticRegression(random_state = 1234)\n",
    "parameters = {'C': [0.001, 0.01, 0.1, 1, 10, 100, 1000]}\n",
    "\n",
    "LR_CV = GridSearchCV(LR, parameters, cv=5)\n",
    "LR_CV.fit(X_train, y_train.values.ravel())\n",
    "\n",
    "print_results(LR_CV)"
   ]
  },
  {
   "cell_type": "code",
   "execution_count": 60,
   "metadata": {},
   "outputs": [
    {
     "data": {
      "text/plain": [
       "LogisticRegression(C=100, class_weight=None, dual=False, fit_intercept=True,\n",
       "                   intercept_scaling=1, l1_ratio=None, max_iter=100,\n",
       "                   multi_class='auto', n_jobs=None, penalty='l2',\n",
       "                   random_state=1234, solver='lbfgs', tol=0.0001, verbose=0,\n",
       "                   warm_start=False)"
      ]
     },
     "execution_count": 60,
     "metadata": {},
     "output_type": "execute_result"
    }
   ],
   "source": [
    "LR_CV.best_estimator_"
   ]
  },
  {
   "cell_type": "code",
   "execution_count": 61,
   "metadata": {},
   "outputs": [],
   "source": [
    "LR_CV_model = LR_CV.fit(X_train, y_train.values.ravel())"
   ]
  },
  {
   "cell_type": "code",
   "execution_count": 62,
   "metadata": {},
   "outputs": [
    {
     "data": {
      "text/plain": [
       "0.8321678321678322"
      ]
     },
     "execution_count": 62,
     "metadata": {},
     "output_type": "execute_result"
    }
   ],
   "source": [
    "LR_CV_model.score(X_train, y_train)"
   ]
  },
  {
   "cell_type": "code",
   "execution_count": 63,
   "metadata": {},
   "outputs": [
    {
     "data": {
      "text/plain": [
       "0.7934782608695652"
      ]
     },
     "execution_count": 63,
     "metadata": {},
     "output_type": "execute_result"
    }
   ],
   "source": [
    "LR_CV_model.score(X_val, y_val)"
   ]
  },
  {
   "cell_type": "markdown",
   "metadata": {},
   "source": [
    "#### Step 4.3 : Create a Model with SVM and perform Hyperparameter Tunning"
   ]
  },
  {
   "cell_type": "code",
   "execution_count": 64,
   "metadata": {},
   "outputs": [],
   "source": [
    "from sklearn.svm import SVC\n",
    "SVM = SVC()\n",
    "SVM_model = SVM.fit(X_train, y_train)"
   ]
  },
  {
   "cell_type": "code",
   "execution_count": 65,
   "metadata": {},
   "outputs": [
    {
     "data": {
      "text/plain": [
       "0.8298368298368298"
      ]
     },
     "execution_count": 65,
     "metadata": {},
     "output_type": "execute_result"
    }
   ],
   "source": [
    "SVM_model.score(X_train, y_train)"
   ]
  },
  {
   "cell_type": "code",
   "execution_count": 66,
   "metadata": {},
   "outputs": [
    {
     "data": {
      "text/plain": [
       "0.7934782608695652"
      ]
     },
     "execution_count": 66,
     "metadata": {},
     "output_type": "execute_result"
    }
   ],
   "source": [
    "SVM_model.score(X_val, y_val)"
   ]
  },
  {
   "cell_type": "code",
   "execution_count": 67,
   "metadata": {},
   "outputs": [],
   "source": [
    "def print_results(results):\n",
    "    print('BEST PARAMS: {}\\n'.format(results.best_params_))\n",
    "\n",
    "    means = results.cv_results_['mean_test_score']\n",
    "    stds = results.cv_results_['std_test_score']\n",
    "    for mean, std, params in zip(means, stds, results.cv_results_['params']):\n",
    "        print('{} (+/-{}) for {}'.format(round(mean, 3), round(std * 2, 3), params))"
   ]
  },
  {
   "cell_type": "code",
   "execution_count": 68,
   "metadata": {},
   "outputs": [
    {
     "name": "stdout",
     "output_type": "stream",
     "text": [
      "BEST PARAMS: {'C': 0.1, 'kernel': 'linear'}\n",
      "\n",
      "0.688 (+/-0.006) for {'C': 0.01, 'kernel': 'linear'}\n",
      "0.688 (+/-0.006) for {'C': 0.01, 'kernel': 'rbf'}\n",
      "0.828 (+/-0.039) for {'C': 0.1, 'kernel': 'linear'}\n",
      "0.821 (+/-0.037) for {'C': 0.1, 'kernel': 'rbf'}\n",
      "0.828 (+/-0.039) for {'C': 1, 'kernel': 'linear'}\n",
      "0.828 (+/-0.039) for {'C': 1, 'kernel': 'rbf'}\n",
      "0.828 (+/-0.039) for {'C': 10, 'kernel': 'linear'}\n",
      "0.797 (+/-0.1) for {'C': 10, 'kernel': 'rbf'}\n"
     ]
    }
   ],
   "source": [
    "SVM = SVC()\n",
    "parameters = {\n",
    "    'kernel': ['linear', 'rbf'],\n",
    "    'C': [0.01, 0.1, 1, 10]\n",
    "}\n",
    "\n",
    "SVM_CV = GridSearchCV(SVM, parameters, cv=5)\n",
    "SVM_CV.fit(X_train, y_train.values.ravel())\n",
    "\n",
    "print_results(SVM_CV)"
   ]
  },
  {
   "cell_type": "code",
   "execution_count": 69,
   "metadata": {},
   "outputs": [
    {
     "data": {
      "text/plain": [
       "SVC(C=0.1, break_ties=False, cache_size=200, class_weight=None, coef0=0.0,\n",
       "    decision_function_shape='ovr', degree=3, gamma='scale', kernel='linear',\n",
       "    max_iter=-1, probability=False, random_state=None, shrinking=True,\n",
       "    tol=0.001, verbose=False)"
      ]
     },
     "execution_count": 69,
     "metadata": {},
     "output_type": "execute_result"
    }
   ],
   "source": [
    "SVM_CV.best_estimator_"
   ]
  },
  {
   "cell_type": "code",
   "execution_count": 70,
   "metadata": {},
   "outputs": [],
   "source": [
    "SVM_CV_model = SVM_CV.fit(X_train, y_train.values.ravel())"
   ]
  },
  {
   "cell_type": "code",
   "execution_count": 71,
   "metadata": {},
   "outputs": [
    {
     "data": {
      "text/plain": [
       "0.8275058275058275"
      ]
     },
     "execution_count": 71,
     "metadata": {},
     "output_type": "execute_result"
    }
   ],
   "source": [
    "SVM_CV_model.score(X_train, y_train)"
   ]
  },
  {
   "cell_type": "code",
   "execution_count": 72,
   "metadata": {},
   "outputs": [
    {
     "data": {
      "text/plain": [
       "0.7934782608695652"
      ]
     },
     "execution_count": 72,
     "metadata": {},
     "output_type": "execute_result"
    }
   ],
   "source": [
    "SVM_CV_model.score(X_val, y_val)"
   ]
  },
  {
   "cell_type": "markdown",
   "metadata": {},
   "source": [
    "#### Step 4.4 : Create a Model with Random Forest and perform Hyperparameter Tunning"
   ]
  },
  {
   "cell_type": "code",
   "execution_count": 73,
   "metadata": {},
   "outputs": [],
   "source": [
    "from sklearn.ensemble import RandomForestClassifier"
   ]
  },
  {
   "cell_type": "code",
   "execution_count": 74,
   "metadata": {},
   "outputs": [],
   "source": [
    "def print_results(results):\n",
    "    print('BEST PARAMS: {}\\n'.format(results.best_params_))\n",
    "\n",
    "    means = results.cv_results_['mean_test_score']\n",
    "    stds = results.cv_results_['std_test_score']\n",
    "    for mean, std, params in zip(means, stds, results.cv_results_['params']):\n",
    "        print('{} (+/-{}) for {}'.format(round(mean, 3), round(std * 2, 3), params))"
   ]
  },
  {
   "cell_type": "code",
   "execution_count": 75,
   "metadata": {},
   "outputs": [
    {
     "name": "stdout",
     "output_type": "stream",
     "text": [
      "BEST PARAMS: {'max_depth': 2, 'n_estimators': 50}\n",
      "\n",
      "0.793 (+/-0.122) for {'max_depth': 2, 'n_estimators': 5}\n",
      "0.809 (+/-0.062) for {'max_depth': 2, 'n_estimators': 10}\n",
      "0.821 (+/-0.037) for {'max_depth': 2, 'n_estimators': 25}\n",
      "0.828 (+/-0.039) for {'max_depth': 2, 'n_estimators': 50}\n",
      "0.828 (+/-0.039) for {'max_depth': 2, 'n_estimators': 250}\n",
      "0.792 (+/-0.081) for {'max_depth': 4, 'n_estimators': 5}\n",
      "0.816 (+/-0.044) for {'max_depth': 4, 'n_estimators': 10}\n",
      "0.825 (+/-0.038) for {'max_depth': 4, 'n_estimators': 25}\n",
      "0.821 (+/-0.047) for {'max_depth': 4, 'n_estimators': 50}\n",
      "0.828 (+/-0.039) for {'max_depth': 4, 'n_estimators': 250}\n",
      "0.781 (+/-0.076) for {'max_depth': 8, 'n_estimators': 5}\n",
      "0.818 (+/-0.037) for {'max_depth': 8, 'n_estimators': 10}\n",
      "0.814 (+/-0.052) for {'max_depth': 8, 'n_estimators': 25}\n",
      "0.823 (+/-0.049) for {'max_depth': 8, 'n_estimators': 50}\n",
      "0.825 (+/-0.041) for {'max_depth': 8, 'n_estimators': 250}\n",
      "0.781 (+/-0.108) for {'max_depth': 16, 'n_estimators': 5}\n",
      "0.79 (+/-0.073) for {'max_depth': 16, 'n_estimators': 10}\n",
      "0.797 (+/-0.037) for {'max_depth': 16, 'n_estimators': 25}\n",
      "0.795 (+/-0.042) for {'max_depth': 16, 'n_estimators': 50}\n",
      "0.809 (+/-0.017) for {'max_depth': 16, 'n_estimators': 250}\n",
      "0.762 (+/-0.027) for {'max_depth': 32, 'n_estimators': 5}\n",
      "0.779 (+/-0.069) for {'max_depth': 32, 'n_estimators': 10}\n",
      "0.8 (+/-0.039) for {'max_depth': 32, 'n_estimators': 25}\n",
      "0.807 (+/-0.031) for {'max_depth': 32, 'n_estimators': 50}\n",
      "0.807 (+/-0.033) for {'max_depth': 32, 'n_estimators': 250}\n",
      "0.767 (+/-0.061) for {'max_depth': None, 'n_estimators': 5}\n",
      "0.76 (+/-0.07) for {'max_depth': None, 'n_estimators': 10}\n",
      "0.781 (+/-0.067) for {'max_depth': None, 'n_estimators': 25}\n",
      "0.788 (+/-0.025) for {'max_depth': None, 'n_estimators': 50}\n",
      "0.814 (+/-0.024) for {'max_depth': None, 'n_estimators': 250}\n"
     ]
    }
   ],
   "source": [
    "RF_CV = RandomForestClassifier()\n",
    "parameters = {\n",
    "    'n_estimators': [5, 10, 25, 50, 250],\n",
    "    'max_depth': [2, 4, 8, 16, 32, None]\n",
    "}\n",
    "\n",
    "RF_CV = GridSearchCV(RF_CV, parameters, cv=5)\n",
    "RF_CV.fit(X_train, y_train.values.ravel())\n",
    "\n",
    "print_results(RF_CV)"
   ]
  },
  {
   "cell_type": "code",
   "execution_count": 76,
   "metadata": {},
   "outputs": [
    {
     "data": {
      "text/plain": [
       "RandomForestClassifier(bootstrap=True, ccp_alpha=0.0, class_weight=None,\n",
       "                       criterion='gini', max_depth=2, max_features='auto',\n",
       "                       max_leaf_nodes=None, max_samples=None,\n",
       "                       min_impurity_decrease=0.0, min_impurity_split=None,\n",
       "                       min_samples_leaf=1, min_samples_split=2,\n",
       "                       min_weight_fraction_leaf=0.0, n_estimators=50,\n",
       "                       n_jobs=None, oob_score=False, random_state=None,\n",
       "                       verbose=0, warm_start=False)"
      ]
     },
     "execution_count": 76,
     "metadata": {},
     "output_type": "execute_result"
    }
   ],
   "source": [
    "RF_CV.best_estimator_"
   ]
  },
  {
   "cell_type": "code",
   "execution_count": 77,
   "metadata": {},
   "outputs": [],
   "source": [
    "RF_CV_model = RF_CV.fit(X_train, y_train.values.ravel())"
   ]
  },
  {
   "cell_type": "code",
   "execution_count": 78,
   "metadata": {},
   "outputs": [
    {
     "data": {
      "text/plain": [
       "0.8344988344988346"
      ]
     },
     "execution_count": 78,
     "metadata": {},
     "output_type": "execute_result"
    }
   ],
   "source": [
    "RF_CV_model.score(X_train, y_train)"
   ]
  },
  {
   "cell_type": "code",
   "execution_count": 79,
   "metadata": {},
   "outputs": [
    {
     "data": {
      "text/plain": [
       "0.7934782608695652"
      ]
     },
     "execution_count": 79,
     "metadata": {},
     "output_type": "execute_result"
    }
   ],
   "source": [
    "RF_CV_model.score(X_val, y_val)"
   ]
  },
  {
   "cell_type": "markdown",
   "metadata": {},
   "source": [
    "#### Step 4.5 : Create a Model with Extreme Gradient Boosting (XGBoost) Model and perform Hyperparameter Tunning"
   ]
  },
  {
   "cell_type": "code",
   "execution_count": 80,
   "metadata": {},
   "outputs": [],
   "source": [
    "#Importing XGBM Classifier \n",
    "from xgboost import XGBClassifier"
   ]
  },
  {
   "cell_type": "code",
   "execution_count": 81,
   "metadata": {},
   "outputs": [],
   "source": [
    "#creating an extreme Gradient boosting instance\n",
    "XGB_model = XGBClassifier()"
   ]
  },
  {
   "cell_type": "code",
   "execution_count": 82,
   "metadata": {},
   "outputs": [
    {
     "data": {
      "text/plain": [
       "XGBClassifier(base_score=None, booster=None, callbacks=None,\n",
       "              colsample_bylevel=None, colsample_bynode=None,\n",
       "              colsample_bytree=None, early_stopping_rounds=None,\n",
       "              enable_categorical=False, eval_metric=None, feature_types=None,\n",
       "              gamma=None, gpu_id=None, grow_policy=None, importance_type=None,\n",
       "              interaction_constraints=None, learning_rate=None, max_bin=None,\n",
       "              max_cat_threshold=None, max_cat_to_onehot=None,\n",
       "              max_delta_step=None, max_depth=None, max_leaves=None,\n",
       "              min_child_weight=None, missing=nan, monotone_constraints=None,\n",
       "              n_estimators=100, n_jobs=None, num_parallel_tree=None,\n",
       "              objective='binary:logistic', predictor=None, ...)"
      ]
     },
     "execution_count": 82,
     "metadata": {},
     "output_type": "execute_result"
    }
   ],
   "source": [
    "#training the model\n",
    "XGB_model.fit(X_train,y_train)"
   ]
  },
  {
   "cell_type": "code",
   "execution_count": 83,
   "metadata": {},
   "outputs": [
    {
     "data": {
      "text/plain": [
       "1.0"
      ]
     },
     "execution_count": 83,
     "metadata": {},
     "output_type": "execute_result"
    }
   ],
   "source": [
    "#calculating score on training data\n",
    "XGB_model.score(X_train, y_train)"
   ]
  },
  {
   "cell_type": "code",
   "execution_count": 84,
   "metadata": {},
   "outputs": [
    {
     "data": {
      "text/plain": [
       "0.75"
      ]
     },
     "execution_count": 84,
     "metadata": {},
     "output_type": "execute_result"
    }
   ],
   "source": [
    "#calculating score on validation data\n",
    "XGB_model.score(X_val, y_val)"
   ]
  },
  {
   "cell_type": "markdown",
   "metadata": {},
   "source": [
    "##### Feature importance based on mean decrease in impurity\n",
    "Feature importances are provided by the fitted attribute feature_importances_ and they are computed as the mean and standard deviation of accumulation of the impurity decrease within each tree.\n",
    "\n",
    "Warning Impurity-based feature importances can be misleading for high cardinality features (many unique values)"
   ]
  },
  {
   "cell_type": "code",
   "execution_count": 161,
   "metadata": {},
   "outputs": [
    {
     "data": {
      "image/png": "[encoded data removed]",
      "text/plain": [
       "<Figure size 432x288 with 1 Axes>"
      ]
     },
     "metadata": {
      "needs_background": "light"
     },
     "output_type": "display_data"
    }
   ],
   "source": [
    "importance = XGB_model.feature_importances_\n",
    "feature_importance = pd.Series(importance, index = X.columns)\n",
    "feature_importance.plot(kind = 'bar')\n",
    "plt.ylabel('Importance');"
   ]
  },
  {
   "cell_type": "markdown",
   "metadata": {},
   "source": [
    "#### Hyperparamter Tuning"
   ]
  },
  {
   "cell_type": "markdown",
   "metadata": {},
   "source": [
    "Same as GBDT\n",
    "\n",
    "1. **n_estimators:** Total number of trees\n",
    "2. **learning_rate:**This determines the impact of each tree on the final outcome\n",
    "3. **random_state:** The random number seed so that same random numbers are generated every time\n",
    "4. **max_depth:** Maximum depth to which tree can grow (stopping criteria)\n",
    "5. **subsample:** The fraction of observations to be selected for each tree. Selection is done by random sampling\n",
    "6. **objective:** Defines Loss function (*binary:logistic* is for classification using probability, *reg:logistic* is for classification, *reg:linear* is for regression)\n",
    "7. **colsample_bylevel:** Random feature selection at levels\n",
    "8. **colsample_bytree:** Random feature selection at tree"
   ]
  },
  {
   "cell_type": "code",
   "execution_count": 85,
   "metadata": {},
   "outputs": [],
   "source": [
    "def print_results(results):\n",
    "    print('BEST PARAMS: {}\\n'.format(results.best_params_))\n",
    "\n",
    "    means = results.cv_results_['mean_test_score']\n",
    "    stds = results.cv_results_['std_test_score']\n",
    "    for mean, std, params in zip(means, stds, results.cv_results_['params']):\n",
    "        print('{} (+/-{}) for {}'.format(round(mean, 3), round(std * 2, 3), params))"
   ]
  },
  {
   "cell_type": "code",
   "execution_count": 86,
   "metadata": {},
   "outputs": [
    {
     "name": "stdout",
     "output_type": "stream",
     "text": [
      "BEST PARAMS: {'colsample_bytree': 0.2, 'max_depth': 2, 'n_estimators': 10}\n",
      "\n",
      "0.783 (+/-0.027) for {'colsample_bytree': 0.1, 'max_depth': 2, 'n_estimators': 5}\n",
      "0.753 (+/-0.037) for {'colsample_bytree': 0.1, 'max_depth': 2, 'n_estimators': 10}\n",
      "0.748 (+/-0.026) for {'colsample_bytree': 0.1, 'max_depth': 2, 'n_estimators': 25}\n",
      "0.725 (+/-0.049) for {'colsample_bytree': 0.1, 'max_depth': 2, 'n_estimators': 50}\n",
      "0.772 (+/-0.055) for {'colsample_bytree': 0.1, 'max_depth': 2, 'n_estimators': 250}\n",
      "0.786 (+/-0.031) for {'colsample_bytree': 0.1, 'max_depth': 4, 'n_estimators': 5}\n",
      "0.737 (+/-0.056) for {'colsample_bytree': 0.1, 'max_depth': 4, 'n_estimators': 10}\n",
      "0.739 (+/-0.072) for {'colsample_bytree': 0.1, 'max_depth': 4, 'n_estimators': 25}\n",
      "0.711 (+/-0.064) for {'colsample_bytree': 0.1, 'max_depth': 4, 'n_estimators': 50}\n",
      "0.741 (+/-0.066) for {'colsample_bytree': 0.1, 'max_depth': 4, 'n_estimators': 250}\n",
      "0.779 (+/-0.02) for {'colsample_bytree': 0.1, 'max_depth': 8, 'n_estimators': 5}\n",
      "0.744 (+/-0.054) for {'colsample_bytree': 0.1, 'max_depth': 8, 'n_estimators': 10}\n",
      "0.711 (+/-0.062) for {'colsample_bytree': 0.1, 'max_depth': 8, 'n_estimators': 25}\n",
      "0.685 (+/-0.062) for {'colsample_bytree': 0.1, 'max_depth': 8, 'n_estimators': 50}\n",
      "0.739 (+/-0.059) for {'colsample_bytree': 0.1, 'max_depth': 8, 'n_estimators': 250}\n",
      "0.781 (+/-0.026) for {'colsample_bytree': 0.1, 'max_depth': 16, 'n_estimators': 5}\n",
      "0.751 (+/-0.043) for {'colsample_bytree': 0.1, 'max_depth': 16, 'n_estimators': 10}\n",
      "0.706 (+/-0.068) for {'colsample_bytree': 0.1, 'max_depth': 16, 'n_estimators': 25}\n",
      "0.678 (+/-0.067) for {'colsample_bytree': 0.1, 'max_depth': 16, 'n_estimators': 50}\n",
      "0.727 (+/-0.045) for {'colsample_bytree': 0.1, 'max_depth': 16, 'n_estimators': 250}\n",
      "0.781 (+/-0.026) for {'colsample_bytree': 0.1, 'max_depth': 32, 'n_estimators': 5}\n",
      "0.751 (+/-0.043) for {'colsample_bytree': 0.1, 'max_depth': 32, 'n_estimators': 10}\n",
      "0.706 (+/-0.068) for {'colsample_bytree': 0.1, 'max_depth': 32, 'n_estimators': 25}\n",
      "0.678 (+/-0.067) for {'colsample_bytree': 0.1, 'max_depth': 32, 'n_estimators': 50}\n",
      "0.73 (+/-0.036) for {'colsample_bytree': 0.1, 'max_depth': 32, 'n_estimators': 250}\n",
      "0.786 (+/-0.023) for {'colsample_bytree': 0.1, 'max_depth': None, 'n_estimators': 5}\n",
      "0.748 (+/-0.056) for {'colsample_bytree': 0.1, 'max_depth': None, 'n_estimators': 10}\n",
      "0.718 (+/-0.1) for {'colsample_bytree': 0.1, 'max_depth': None, 'n_estimators': 25}\n",
      "0.704 (+/-0.089) for {'colsample_bytree': 0.1, 'max_depth': None, 'n_estimators': 50}\n",
      "0.739 (+/-0.065) for {'colsample_bytree': 0.1, 'max_depth': None, 'n_estimators': 250}\n",
      "0.774 (+/-0.029) for {'colsample_bytree': 0.2, 'max_depth': 2, 'n_estimators': 5}\n",
      "0.828 (+/-0.039) for {'colsample_bytree': 0.2, 'max_depth': 2, 'n_estimators': 10}\n",
      "0.804 (+/-0.026) for {'colsample_bytree': 0.2, 'max_depth': 2, 'n_estimators': 25}\n",
      "0.786 (+/-0.034) for {'colsample_bytree': 0.2, 'max_depth': 2, 'n_estimators': 50}\n",
      "0.788 (+/-0.07) for {'colsample_bytree': 0.2, 'max_depth': 2, 'n_estimators': 250}\n",
      "0.762 (+/-0.023) for {'colsample_bytree': 0.2, 'max_depth': 4, 'n_estimators': 5}\n",
      "0.814 (+/-0.032) for {'colsample_bytree': 0.2, 'max_depth': 4, 'n_estimators': 10}\n",
      "0.772 (+/-0.045) for {'colsample_bytree': 0.2, 'max_depth': 4, 'n_estimators': 25}\n",
      "0.727 (+/-0.04) for {'colsample_bytree': 0.2, 'max_depth': 4, 'n_estimators': 50}\n",
      "0.774 (+/-0.079) for {'colsample_bytree': 0.2, 'max_depth': 4, 'n_estimators': 250}\n",
      "0.758 (+/-0.044) for {'colsample_bytree': 0.2, 'max_depth': 8, 'n_estimators': 5}\n",
      "0.788 (+/-0.051) for {'colsample_bytree': 0.2, 'max_depth': 8, 'n_estimators': 10}\n",
      "0.741 (+/-0.046) for {'colsample_bytree': 0.2, 'max_depth': 8, 'n_estimators': 25}\n",
      "0.709 (+/-0.061) for {'colsample_bytree': 0.2, 'max_depth': 8, 'n_estimators': 50}\n",
      "0.741 (+/-0.076) for {'colsample_bytree': 0.2, 'max_depth': 8, 'n_estimators': 250}\n",
      "0.755 (+/-0.054) for {'colsample_bytree': 0.2, 'max_depth': 16, 'n_estimators': 5}\n",
      "0.783 (+/-0.055) for {'colsample_bytree': 0.2, 'max_depth': 16, 'n_estimators': 10}\n",
      "0.727 (+/-0.06) for {'colsample_bytree': 0.2, 'max_depth': 16, 'n_estimators': 25}\n",
      "0.706 (+/-0.072) for {'colsample_bytree': 0.2, 'max_depth': 16, 'n_estimators': 50}\n",
      "0.744 (+/-0.086) for {'colsample_bytree': 0.2, 'max_depth': 16, 'n_estimators': 250}\n",
      "0.755 (+/-0.054) for {'colsample_bytree': 0.2, 'max_depth': 32, 'n_estimators': 5}\n",
      "0.783 (+/-0.055) for {'colsample_bytree': 0.2, 'max_depth': 32, 'n_estimators': 10}\n",
      "0.727 (+/-0.06) for {'colsample_bytree': 0.2, 'max_depth': 32, 'n_estimators': 25}\n",
      "0.704 (+/-0.059) for {'colsample_bytree': 0.2, 'max_depth': 32, 'n_estimators': 50}\n",
      "0.734 (+/-0.064) for {'colsample_bytree': 0.2, 'max_depth': 32, 'n_estimators': 250}\n",
      "0.758 (+/-0.026) for {'colsample_bytree': 0.2, 'max_depth': None, 'n_estimators': 5}\n",
      "0.795 (+/-0.031) for {'colsample_bytree': 0.2, 'max_depth': None, 'n_estimators': 10}\n",
      "0.751 (+/-0.101) for {'colsample_bytree': 0.2, 'max_depth': None, 'n_estimators': 25}\n",
      "0.711 (+/-0.062) for {'colsample_bytree': 0.2, 'max_depth': None, 'n_estimators': 50}\n",
      "0.767 (+/-0.088) for {'colsample_bytree': 0.2, 'max_depth': None, 'n_estimators': 250}\n",
      "0.774 (+/-0.029) for {'colsample_bytree': 0.25, 'max_depth': 2, 'n_estimators': 5}\n",
      "0.828 (+/-0.039) for {'colsample_bytree': 0.25, 'max_depth': 2, 'n_estimators': 10}\n",
      "0.804 (+/-0.026) for {'colsample_bytree': 0.25, 'max_depth': 2, 'n_estimators': 25}\n",
      "0.786 (+/-0.034) for {'colsample_bytree': 0.25, 'max_depth': 2, 'n_estimators': 50}\n",
      "0.788 (+/-0.07) for {'colsample_bytree': 0.25, 'max_depth': 2, 'n_estimators': 250}\n",
      "0.762 (+/-0.023) for {'colsample_bytree': 0.25, 'max_depth': 4, 'n_estimators': 5}\n",
      "0.814 (+/-0.032) for {'colsample_bytree': 0.25, 'max_depth': 4, 'n_estimators': 10}\n",
      "0.772 (+/-0.045) for {'colsample_bytree': 0.25, 'max_depth': 4, 'n_estimators': 25}\n",
      "0.727 (+/-0.04) for {'colsample_bytree': 0.25, 'max_depth': 4, 'n_estimators': 50}\n",
      "0.774 (+/-0.079) for {'colsample_bytree': 0.25, 'max_depth': 4, 'n_estimators': 250}\n",
      "0.758 (+/-0.044) for {'colsample_bytree': 0.25, 'max_depth': 8, 'n_estimators': 5}\n",
      "0.788 (+/-0.051) for {'colsample_bytree': 0.25, 'max_depth': 8, 'n_estimators': 10}\n",
      "0.741 (+/-0.046) for {'colsample_bytree': 0.25, 'max_depth': 8, 'n_estimators': 25}\n",
      "0.709 (+/-0.061) for {'colsample_bytree': 0.25, 'max_depth': 8, 'n_estimators': 50}\n",
      "0.741 (+/-0.076) for {'colsample_bytree': 0.25, 'max_depth': 8, 'n_estimators': 250}\n",
      "0.755 (+/-0.054) for {'colsample_bytree': 0.25, 'max_depth': 16, 'n_estimators': 5}\n",
      "0.783 (+/-0.055) for {'colsample_bytree': 0.25, 'max_depth': 16, 'n_estimators': 10}\n",
      "0.727 (+/-0.06) for {'colsample_bytree': 0.25, 'max_depth': 16, 'n_estimators': 25}\n",
      "0.706 (+/-0.072) for {'colsample_bytree': 0.25, 'max_depth': 16, 'n_estimators': 50}\n",
      "0.744 (+/-0.086) for {'colsample_bytree': 0.25, 'max_depth': 16, 'n_estimators': 250}\n",
      "0.755 (+/-0.054) for {'colsample_bytree': 0.25, 'max_depth': 32, 'n_estimators': 5}\n",
      "0.783 (+/-0.055) for {'colsample_bytree': 0.25, 'max_depth': 32, 'n_estimators': 10}\n",
      "0.727 (+/-0.06) for {'colsample_bytree': 0.25, 'max_depth': 32, 'n_estimators': 25}\n",
      "0.704 (+/-0.059) for {'colsample_bytree': 0.25, 'max_depth': 32, 'n_estimators': 50}\n",
      "0.734 (+/-0.064) for {'colsample_bytree': 0.25, 'max_depth': 32, 'n_estimators': 250}\n",
      "0.758 (+/-0.026) for {'colsample_bytree': 0.25, 'max_depth': None, 'n_estimators': 5}\n",
      "0.795 (+/-0.031) for {'colsample_bytree': 0.25, 'max_depth': None, 'n_estimators': 10}\n",
      "0.751 (+/-0.101) for {'colsample_bytree': 0.25, 'max_depth': None, 'n_estimators': 25}\n",
      "0.711 (+/-0.062) for {'colsample_bytree': 0.25, 'max_depth': None, 'n_estimators': 50}\n",
      "0.767 (+/-0.088) for {'colsample_bytree': 0.25, 'max_depth': None, 'n_estimators': 250}\n",
      "0.825 (+/-0.032) for {'colsample_bytree': 0.3, 'max_depth': 2, 'n_estimators': 5}\n",
      "0.821 (+/-0.037) for {'colsample_bytree': 0.3, 'max_depth': 2, 'n_estimators': 10}\n",
      "0.818 (+/-0.049) for {'colsample_bytree': 0.3, 'max_depth': 2, 'n_estimators': 25}\n",
      "0.809 (+/-0.053) for {'colsample_bytree': 0.3, 'max_depth': 2, 'n_estimators': 50}\n",
      "0.772 (+/-0.083) for {'colsample_bytree': 0.3, 'max_depth': 2, 'n_estimators': 250}\n",
      "0.823 (+/-0.039) for {'colsample_bytree': 0.3, 'max_depth': 4, 'n_estimators': 5}\n",
      "0.818 (+/-0.037) for {'colsample_bytree': 0.3, 'max_depth': 4, 'n_estimators': 10}\n",
      "0.804 (+/-0.046) for {'colsample_bytree': 0.3, 'max_depth': 4, 'n_estimators': 25}\n",
      "0.765 (+/-0.079) for {'colsample_bytree': 0.3, 'max_depth': 4, 'n_estimators': 50}\n",
      "0.765 (+/-0.084) for {'colsample_bytree': 0.3, 'max_depth': 4, 'n_estimators': 250}\n",
      "0.821 (+/-0.037) for {'colsample_bytree': 0.3, 'max_depth': 8, 'n_estimators': 5}\n",
      "0.821 (+/-0.03) for {'colsample_bytree': 0.3, 'max_depth': 8, 'n_estimators': 10}\n",
      "0.781 (+/-0.063) for {'colsample_bytree': 0.3, 'max_depth': 8, 'n_estimators': 25}\n",
      "0.767 (+/-0.091) for {'colsample_bytree': 0.3, 'max_depth': 8, 'n_estimators': 50}\n",
      "0.769 (+/-0.095) for {'colsample_bytree': 0.3, 'max_depth': 8, 'n_estimators': 250}\n",
      "0.816 (+/-0.039) for {'colsample_bytree': 0.3, 'max_depth': 16, 'n_estimators': 5}\n",
      "0.818 (+/-0.042) for {'colsample_bytree': 0.3, 'max_depth': 16, 'n_estimators': 10}\n",
      "0.774 (+/-0.062) for {'colsample_bytree': 0.3, 'max_depth': 16, 'n_estimators': 25}\n",
      "0.755 (+/-0.052) for {'colsample_bytree': 0.3, 'max_depth': 16, 'n_estimators': 50}\n",
      "0.774 (+/-0.072) for {'colsample_bytree': 0.3, 'max_depth': 16, 'n_estimators': 250}\n",
      "0.816 (+/-0.039) for {'colsample_bytree': 0.3, 'max_depth': 32, 'n_estimators': 5}\n",
      "0.818 (+/-0.042) for {'colsample_bytree': 0.3, 'max_depth': 32, 'n_estimators': 10}\n",
      "0.769 (+/-0.063) for {'colsample_bytree': 0.3, 'max_depth': 32, 'n_estimators': 25}\n",
      "0.762 (+/-0.069) for {'colsample_bytree': 0.3, 'max_depth': 32, 'n_estimators': 50}\n",
      "0.783 (+/-0.081) for {'colsample_bytree': 0.3, 'max_depth': 32, 'n_estimators': 250}\n",
      "0.823 (+/-0.033) for {'colsample_bytree': 0.3, 'max_depth': None, 'n_estimators': 5}\n",
      "0.821 (+/-0.037) for {'colsample_bytree': 0.3, 'max_depth': None, 'n_estimators': 10}\n",
      "0.788 (+/-0.067) for {'colsample_bytree': 0.3, 'max_depth': None, 'n_estimators': 25}\n",
      "0.758 (+/-0.076) for {'colsample_bytree': 0.3, 'max_depth': None, 'n_estimators': 50}\n",
      "0.779 (+/-0.098) for {'colsample_bytree': 0.3, 'max_depth': None, 'n_estimators': 250}\n",
      "0.825 (+/-0.032) for {'colsample_bytree': 0.35, 'max_depth': 2, 'n_estimators': 5}\n",
      "0.821 (+/-0.037) for {'colsample_bytree': 0.35, 'max_depth': 2, 'n_estimators': 10}\n",
      "0.818 (+/-0.049) for {'colsample_bytree': 0.35, 'max_depth': 2, 'n_estimators': 25}\n",
      "0.809 (+/-0.053) for {'colsample_bytree': 0.35, 'max_depth': 2, 'n_estimators': 50}\n",
      "0.772 (+/-0.083) for {'colsample_bytree': 0.35, 'max_depth': 2, 'n_estimators': 250}\n",
      "0.823 (+/-0.039) for {'colsample_bytree': 0.35, 'max_depth': 4, 'n_estimators': 5}\n",
      "0.818 (+/-0.037) for {'colsample_bytree': 0.35, 'max_depth': 4, 'n_estimators': 10}\n",
      "0.804 (+/-0.046) for {'colsample_bytree': 0.35, 'max_depth': 4, 'n_estimators': 25}\n",
      "0.765 (+/-0.079) for {'colsample_bytree': 0.35, 'max_depth': 4, 'n_estimators': 50}\n",
      "0.765 (+/-0.084) for {'colsample_bytree': 0.35, 'max_depth': 4, 'n_estimators': 250}\n",
      "0.821 (+/-0.037) for {'colsample_bytree': 0.35, 'max_depth': 8, 'n_estimators': 5}\n",
      "0.821 (+/-0.03) for {'colsample_bytree': 0.35, 'max_depth': 8, 'n_estimators': 10}\n",
      "0.781 (+/-0.063) for {'colsample_bytree': 0.35, 'max_depth': 8, 'n_estimators': 25}\n",
      "0.767 (+/-0.091) for {'colsample_bytree': 0.35, 'max_depth': 8, 'n_estimators': 50}\n",
      "0.769 (+/-0.095) for {'colsample_bytree': 0.35, 'max_depth': 8, 'n_estimators': 250}\n",
      "0.816 (+/-0.039) for {'colsample_bytree': 0.35, 'max_depth': 16, 'n_estimators': 5}\n",
      "0.818 (+/-0.042) for {'colsample_bytree': 0.35, 'max_depth': 16, 'n_estimators': 10}\n",
      "0.774 (+/-0.062) for {'colsample_bytree': 0.35, 'max_depth': 16, 'n_estimators': 25}\n",
      "0.755 (+/-0.052) for {'colsample_bytree': 0.35, 'max_depth': 16, 'n_estimators': 50}\n",
      "0.774 (+/-0.072) for {'colsample_bytree': 0.35, 'max_depth': 16, 'n_estimators': 250}\n",
      "0.816 (+/-0.039) for {'colsample_bytree': 0.35, 'max_depth': 32, 'n_estimators': 5}\n",
      "0.818 (+/-0.042) for {'colsample_bytree': 0.35, 'max_depth': 32, 'n_estimators': 10}\n",
      "0.769 (+/-0.063) for {'colsample_bytree': 0.35, 'max_depth': 32, 'n_estimators': 25}\n",
      "0.762 (+/-0.069) for {'colsample_bytree': 0.35, 'max_depth': 32, 'n_estimators': 50}\n",
      "0.783 (+/-0.081) for {'colsample_bytree': 0.35, 'max_depth': 32, 'n_estimators': 250}\n",
      "0.823 (+/-0.033) for {'colsample_bytree': 0.35, 'max_depth': None, 'n_estimators': 5}\n",
      "0.821 (+/-0.037) for {'colsample_bytree': 0.35, 'max_depth': None, 'n_estimators': 10}\n",
      "0.788 (+/-0.067) for {'colsample_bytree': 0.35, 'max_depth': None, 'n_estimators': 25}\n",
      "0.758 (+/-0.076) for {'colsample_bytree': 0.35, 'max_depth': None, 'n_estimators': 50}\n",
      "0.779 (+/-0.098) for {'colsample_bytree': 0.35, 'max_depth': None, 'n_estimators': 250}\n",
      "0.825 (+/-0.032) for {'colsample_bytree': 0.4, 'max_depth': 2, 'n_estimators': 5}\n",
      "0.823 (+/-0.03) for {'colsample_bytree': 0.4, 'max_depth': 2, 'n_estimators': 10}\n",
      "0.828 (+/-0.036) for {'colsample_bytree': 0.4, 'max_depth': 2, 'n_estimators': 25}\n",
      "0.814 (+/-0.048) for {'colsample_bytree': 0.4, 'max_depth': 2, 'n_estimators': 50}\n",
      "0.779 (+/-0.068) for {'colsample_bytree': 0.4, 'max_depth': 2, 'n_estimators': 250}\n",
      "0.828 (+/-0.036) for {'colsample_bytree': 0.4, 'max_depth': 4, 'n_estimators': 5}\n",
      "0.825 (+/-0.038) for {'colsample_bytree': 0.4, 'max_depth': 4, 'n_estimators': 10}\n",
      "0.802 (+/-0.052) for {'colsample_bytree': 0.4, 'max_depth': 4, 'n_estimators': 25}\n",
      "0.79 (+/-0.059) for {'colsample_bytree': 0.4, 'max_depth': 4, 'n_estimators': 50}\n",
      "0.772 (+/-0.109) for {'colsample_bytree': 0.4, 'max_depth': 4, 'n_estimators': 250}\n",
      "0.821 (+/-0.042) for {'colsample_bytree': 0.4, 'max_depth': 8, 'n_estimators': 5}\n",
      "0.816 (+/-0.044) for {'colsample_bytree': 0.4, 'max_depth': 8, 'n_estimators': 10}\n",
      "0.79 (+/-0.032) for {'colsample_bytree': 0.4, 'max_depth': 8, 'n_estimators': 25}\n",
      "0.783 (+/-0.034) for {'colsample_bytree': 0.4, 'max_depth': 8, 'n_estimators': 50}\n",
      "0.788 (+/-0.052) for {'colsample_bytree': 0.4, 'max_depth': 8, 'n_estimators': 250}\n",
      "0.816 (+/-0.048) for {'colsample_bytree': 0.4, 'max_depth': 16, 'n_estimators': 5}\n",
      "0.807 (+/-0.051) for {'colsample_bytree': 0.4, 'max_depth': 16, 'n_estimators': 10}\n",
      "0.786 (+/-0.041) for {'colsample_bytree': 0.4, 'max_depth': 16, 'n_estimators': 25}\n",
      "0.781 (+/-0.061) for {'colsample_bytree': 0.4, 'max_depth': 16, 'n_estimators': 50}\n",
      "0.779 (+/-0.055) for {'colsample_bytree': 0.4, 'max_depth': 16, 'n_estimators': 250}\n",
      "0.816 (+/-0.048) for {'colsample_bytree': 0.4, 'max_depth': 32, 'n_estimators': 5}\n",
      "0.807 (+/-0.051) for {'colsample_bytree': 0.4, 'max_depth': 32, 'n_estimators': 10}\n",
      "0.795 (+/-0.058) for {'colsample_bytree': 0.4, 'max_depth': 32, 'n_estimators': 25}\n",
      "0.786 (+/-0.07) for {'colsample_bytree': 0.4, 'max_depth': 32, 'n_estimators': 50}\n",
      "0.776 (+/-0.054) for {'colsample_bytree': 0.4, 'max_depth': 32, 'n_estimators': 250}\n",
      "0.823 (+/-0.039) for {'colsample_bytree': 0.4, 'max_depth': None, 'n_estimators': 5}\n",
      "0.807 (+/-0.022) for {'colsample_bytree': 0.4, 'max_depth': None, 'n_estimators': 10}\n",
      "0.802 (+/-0.058) for {'colsample_bytree': 0.4, 'max_depth': None, 'n_estimators': 25}\n",
      "0.781 (+/-0.076) for {'colsample_bytree': 0.4, 'max_depth': None, 'n_estimators': 50}\n",
      "0.767 (+/-0.091) for {'colsample_bytree': 0.4, 'max_depth': None, 'n_estimators': 250}\n",
      "0.825 (+/-0.032) for {'colsample_bytree': 0.45, 'max_depth': 2, 'n_estimators': 5}\n",
      "0.823 (+/-0.03) for {'colsample_bytree': 0.45, 'max_depth': 2, 'n_estimators': 10}\n",
      "0.828 (+/-0.036) for {'colsample_bytree': 0.45, 'max_depth': 2, 'n_estimators': 25}\n",
      "0.814 (+/-0.048) for {'colsample_bytree': 0.45, 'max_depth': 2, 'n_estimators': 50}\n",
      "0.779 (+/-0.068) for {'colsample_bytree': 0.45, 'max_depth': 2, 'n_estimators': 250}\n",
      "0.828 (+/-0.036) for {'colsample_bytree': 0.45, 'max_depth': 4, 'n_estimators': 5}\n",
      "0.825 (+/-0.038) for {'colsample_bytree': 0.45, 'max_depth': 4, 'n_estimators': 10}\n",
      "0.802 (+/-0.052) for {'colsample_bytree': 0.45, 'max_depth': 4, 'n_estimators': 25}\n",
      "0.79 (+/-0.059) for {'colsample_bytree': 0.45, 'max_depth': 4, 'n_estimators': 50}\n",
      "0.772 (+/-0.109) for {'colsample_bytree': 0.45, 'max_depth': 4, 'n_estimators': 250}\n",
      "0.821 (+/-0.042) for {'colsample_bytree': 0.45, 'max_depth': 8, 'n_estimators': 5}\n",
      "0.816 (+/-0.044) for {'colsample_bytree': 0.45, 'max_depth': 8, 'n_estimators': 10}\n",
      "0.79 (+/-0.032) for {'colsample_bytree': 0.45, 'max_depth': 8, 'n_estimators': 25}\n",
      "0.783 (+/-0.034) for {'colsample_bytree': 0.45, 'max_depth': 8, 'n_estimators': 50}\n",
      "0.788 (+/-0.052) for {'colsample_bytree': 0.45, 'max_depth': 8, 'n_estimators': 250}\n",
      "0.816 (+/-0.048) for {'colsample_bytree': 0.45, 'max_depth': 16, 'n_estimators': 5}\n",
      "0.807 (+/-0.051) for {'colsample_bytree': 0.45, 'max_depth': 16, 'n_estimators': 10}\n",
      "0.786 (+/-0.041) for {'colsample_bytree': 0.45, 'max_depth': 16, 'n_estimators': 25}\n",
      "0.781 (+/-0.061) for {'colsample_bytree': 0.45, 'max_depth': 16, 'n_estimators': 50}\n",
      "0.779 (+/-0.055) for {'colsample_bytree': 0.45, 'max_depth': 16, 'n_estimators': 250}\n",
      "0.816 (+/-0.048) for {'colsample_bytree': 0.45, 'max_depth': 32, 'n_estimators': 5}\n",
      "0.807 (+/-0.051) for {'colsample_bytree': 0.45, 'max_depth': 32, 'n_estimators': 10}\n",
      "0.795 (+/-0.058) for {'colsample_bytree': 0.45, 'max_depth': 32, 'n_estimators': 25}\n",
      "0.786 (+/-0.07) for {'colsample_bytree': 0.45, 'max_depth': 32, 'n_estimators': 50}\n",
      "0.776 (+/-0.054) for {'colsample_bytree': 0.45, 'max_depth': 32, 'n_estimators': 250}\n",
      "0.823 (+/-0.039) for {'colsample_bytree': 0.45, 'max_depth': None, 'n_estimators': 5}\n",
      "0.807 (+/-0.022) for {'colsample_bytree': 0.45, 'max_depth': None, 'n_estimators': 10}\n",
      "0.802 (+/-0.058) for {'colsample_bytree': 0.45, 'max_depth': None, 'n_estimators': 25}\n",
      "0.781 (+/-0.076) for {'colsample_bytree': 0.45, 'max_depth': None, 'n_estimators': 50}\n",
      "0.767 (+/-0.091) for {'colsample_bytree': 0.45, 'max_depth': None, 'n_estimators': 250}\n"
     ]
    }
   ],
   "source": [
    "XGB_CV = XGBClassifier()\n",
    "parameters = {\n",
    "    'n_estimators': [5, 10, 25, 50, 250],\n",
    "    'max_depth': [2, 4, 8, 16, 32, None],\n",
    "    'colsample_bytree' : [0.1, 0.2, 0.25, 0.3, 0.35, 0.4, 0.45] \n",
    "    \n",
    "}\n",
    "\n",
    "XGB_CV = GridSearchCV(XGB_CV, parameters, cv=5)\n",
    "XGB_CV.fit(X_train, y_train.values.ravel())\n",
    "\n",
    "print_results(XGB_CV)"
   ]
  },
  {
   "cell_type": "code",
   "execution_count": 87,
   "metadata": {},
   "outputs": [
    {
     "data": {
      "text/plain": [
       "XGBClassifier(base_score=None, booster=None, callbacks=None,\n",
       "              colsample_bylevel=None, colsample_bynode=None,\n",
       "              colsample_bytree=0.2, early_stopping_rounds=None,\n",
       "              enable_categorical=False, eval_metric=None, feature_types=None,\n",
       "              gamma=None, gpu_id=None, grow_policy=None, importance_type=None,\n",
       "              interaction_constraints=None, learning_rate=None, max_bin=None,\n",
       "              max_cat_threshold=None, max_cat_to_onehot=None,\n",
       "              max_delta_step=None, max_depth=2, max_leaves=None,\n",
       "              min_child_weight=None, missing=nan, monotone_constraints=None,\n",
       "              n_estimators=10, n_jobs=None, num_parallel_tree=None,\n",
       "              objective='binary:logistic', predictor=None, ...)"
      ]
     },
     "execution_count": 87,
     "metadata": {},
     "output_type": "execute_result"
    }
   ],
   "source": [
    "XGB_CV.best_estimator_"
   ]
  },
  {
   "cell_type": "code",
   "execution_count": 88,
   "metadata": {},
   "outputs": [],
   "source": [
    "XGB_CV_model = XGB_CV.fit(X_train, y_train.values.ravel())"
   ]
  },
  {
   "cell_type": "code",
   "execution_count": 89,
   "metadata": {},
   "outputs": [
    {
     "data": {
      "text/plain": [
       "0.8275058275058275"
      ]
     },
     "execution_count": 89,
     "metadata": {},
     "output_type": "execute_result"
    }
   ],
   "source": [
    "XGB_CV_model.score(X_train, y_train)"
   ]
  },
  {
   "cell_type": "code",
   "execution_count": 90,
   "metadata": {},
   "outputs": [
    {
     "data": {
      "text/plain": [
       "0.7934782608695652"
      ]
     },
     "execution_count": 90,
     "metadata": {},
     "output_type": "execute_result"
    }
   ],
   "source": [
    "XGB_CV_model.score(X_val, y_val)"
   ]
  },
  {
   "cell_type": "markdown",
   "metadata": {},
   "source": [
    "### Step 5 (Summary) : Compare model results and final model selection\n",
    "\n",
    "In this section, we will:\n",
    "1. Evaluate all of our saved models on the validation set\n",
    "2. Select the best model based on performance on the validation set\n",
    "3. Evaluate that model on the holdout test set"
   ]
  },
  {
   "cell_type": "code",
   "execution_count": 91,
   "metadata": {},
   "outputs": [],
   "source": [
    "import joblib\n",
    "from time import time\n",
    "from sklearn.metrics import accuracy_score, precision_score, recall_score, f1_score"
   ]
  },
  {
   "cell_type": "code",
   "execution_count": 92,
   "metadata": {},
   "outputs": [
    {
     "data": {
      "text/plain": [
       "['DT_CV_model.pkl']"
      ]
     },
     "execution_count": 92,
     "metadata": {},
     "output_type": "execute_result"
    }
   ],
   "source": [
    "joblib.dump(DT_CV_model.best_estimator_, 'DT_CV_model.pkl')"
   ]
  },
  {
   "cell_type": "code",
   "execution_count": 93,
   "metadata": {},
   "outputs": [
    {
     "data": {
      "text/plain": [
       "['LR_CV_model.pkl']"
      ]
     },
     "execution_count": 93,
     "metadata": {},
     "output_type": "execute_result"
    }
   ],
   "source": [
    "joblib.dump(LR_CV_model.best_estimator_, 'LR_CV_model.pkl')"
   ]
  },
  {
   "cell_type": "code",
   "execution_count": 94,
   "metadata": {},
   "outputs": [
    {
     "data": {
      "text/plain": [
       "['SVM_CV_model.pkl']"
      ]
     },
     "execution_count": 94,
     "metadata": {},
     "output_type": "execute_result"
    }
   ],
   "source": [
    "joblib.dump(LR_CV_model.best_estimator_, 'SVM_CV_model.pkl')"
   ]
  },
  {
   "cell_type": "code",
   "execution_count": 95,
   "metadata": {},
   "outputs": [
    {
     "data": {
      "text/plain": [
       "['RF_CV_model.pkl']"
      ]
     },
     "execution_count": 95,
     "metadata": {},
     "output_type": "execute_result"
    }
   ],
   "source": [
    "joblib.dump(RF_CV_model.best_estimator_, 'RF_CV_model.pkl')"
   ]
  },
  {
   "cell_type": "code",
   "execution_count": 96,
   "metadata": {},
   "outputs": [
    {
     "data": {
      "text/plain": [
       "['XGB_CV_model.pkl']"
      ]
     },
     "execution_count": 96,
     "metadata": {},
     "output_type": "execute_result"
    }
   ],
   "source": [
    "joblib.dump(XGB_CV_model.best_estimator_, 'XGB_CV_model.pkl')"
   ]
  },
  {
   "cell_type": "code",
   "execution_count": 97,
   "metadata": {},
   "outputs": [],
   "source": [
    "models = {}\n",
    "\n",
    "for mdl in ['DT_CV_model', 'LR_CV_model', 'SVM_CV_model', 'RF_CV_model', 'XGB_CV_model']:\n",
    "    models[mdl] = joblib.load('{}.pkl'.format(mdl))"
   ]
  },
  {
   "cell_type": "code",
   "execution_count": 98,
   "metadata": {},
   "outputs": [],
   "source": [
    "def evaluate_model(name, model, features, labels):\n",
    "    start = time()\n",
    "    pred = model.predict(features)\n",
    "    end = time()\n",
    "    accuracy = round(accuracy_score(labels, pred), 3)\n",
    "    precision = round(precision_score(labels, pred), 3)\n",
    "    recall = round(recall_score(labels, pred), 3),\n",
    "    f1 = round(f1_score(labels, pred), 3)\n",
    "    print('{} -- Accuracy: {} / Precision: {} / Recall: {} / F1_score: {} / Latency: {}ms'.format(name,\n",
    "                                                                                   accuracy,\n",
    "                                                                                   precision,\n",
    "                                                                                   recall,\n",
    "                                                                                   f1,\n",
    "                                                                                        round((end - start)*1000, 1)))"
   ]
  },
  {
   "cell_type": "markdown",
   "metadata": {},
   "source": [
    "##### Evaluate models on the train set"
   ]
  },
  {
   "cell_type": "code",
   "execution_count": 99,
   "metadata": {},
   "outputs": [
    {
     "name": "stdout",
     "output_type": "stream",
     "text": [
      "DT_CV_model -- Accuracy: 0.832 / Precision: 0.814 / Recall: (0.98,) / F1_score: 0.889 / Latency: 11.5ms\n",
      "LR_CV_model -- Accuracy: 0.832 / Precision: 0.811 / Recall: (0.986,) / F1_score: 0.89 / Latency: 3.0ms\n",
      "SVM_CV_model -- Accuracy: 0.832 / Precision: 0.811 / Recall: (0.986,) / F1_score: 0.89 / Latency: 9.0ms\n",
      "RF_CV_model -- Accuracy: 0.834 / Precision: 0.811 / Recall: (0.99,) / F1_score: 0.892 / Latency: 81.7ms\n",
      "XGB_CV_model -- Accuracy: 0.828 / Precision: 0.806 / Recall: (0.986,) / F1_score: 0.887 / Latency: 6.6ms\n"
     ]
    }
   ],
   "source": [
    "for name, mdl in models.items():\n",
    "    evaluate_model(name, mdl, X_train, y_train)"
   ]
  },
  {
   "cell_type": "markdown",
   "metadata": {},
   "source": [
    "##### Evaluate models on the validation set"
   ]
  },
  {
   "cell_type": "code",
   "execution_count": 100,
   "metadata": {},
   "outputs": [
    {
     "name": "stdout",
     "output_type": "stream",
     "text": [
      "DT_CV_model -- Accuracy: 0.793 / Precision: 0.789 / Recall: (0.952,) / F1_score: 0.863 / Latency: 7.1ms\n",
      "LR_CV_model -- Accuracy: 0.793 / Precision: 0.782 / Recall: (0.968,) / F1_score: 0.865 / Latency: 0.0ms\n",
      "SVM_CV_model -- Accuracy: 0.793 / Precision: 0.782 / Recall: (0.968,) / F1_score: 0.865 / Latency: 1.9ms\n",
      "RF_CV_model -- Accuracy: 0.793 / Precision: 0.782 / Recall: (0.968,) / F1_score: 0.865 / Latency: 62.5ms\n",
      "XGB_CV_model -- Accuracy: 0.793 / Precision: 0.782 / Recall: (0.968,) / F1_score: 0.865 / Latency: 1.0ms\n"
     ]
    }
   ],
   "source": [
    "for name, mdl in models.items():\n",
    "    evaluate_model(name, mdl, X_val, y_val)"
   ]
  },
  {
   "cell_type": "markdown",
   "metadata": {},
   "source": [
    "##### Evaluate models on the test set"
   ]
  },
  {
   "cell_type": "code",
   "execution_count": 101,
   "metadata": {},
   "outputs": [
    {
     "name": "stdout",
     "output_type": "stream",
     "text": [
      "DT_CV_model -- Accuracy: 0.731 / Precision: 0.729 / Recall: (0.969,) / F1_score: 0.832 / Latency: 2.0ms\n",
      "LR_CV_model -- Accuracy: 0.742 / Precision: 0.733 / Recall: (0.984,) / F1_score: 0.84 / Latency: 2.8ms\n",
      "SVM_CV_model -- Accuracy: 0.742 / Precision: 0.733 / Recall: (0.984,) / F1_score: 0.84 / Latency: 0.0ms\n",
      "RF_CV_model -- Accuracy: 0.731 / Precision: 0.729 / Recall: (0.969,) / F1_score: 0.832 / Latency: 72.9ms\n",
      "XGB_CV_model -- Accuracy: 0.742 / Precision: 0.733 / Recall: (0.984,) / F1_score: 0.84 / Latency: 3.3ms\n"
     ]
    }
   ],
   "source": [
    "for name, mdl in models.items():\n",
    "    evaluate_model(name, mdl, X_test, y_test)"
   ]
  },
  {
   "cell_type": "markdown",
   "metadata": {},
   "source": [
    "#### Plot ROC curve with predict_proba & roc_curve"
   ]
  },
  {
   "cell_type": "code",
   "execution_count": null,
   "metadata": {},
   "outputs": [],
   "source": [
    "#logistic regression by default outputs probabilities.\n",
    "#SVM's default output is binary (-1, 1) which is given by the design of the algorithm itself \n",
    "#finding the best separating hyperplane and either the target is on one side or the other."
   ]
  },
  {
   "cell_type": "code",
   "execution_count": 154,
   "metadata": {},
   "outputs": [
    {
     "name": "stdout",
     "output_type": "stream",
     "text": [
      "BEST PARAMS: {'C': 0.1, 'kernel': 'linear'}\n",
      "\n",
      "0.688 (+/-0.006) for {'C': 0.01, 'kernel': 'linear'}\n",
      "0.688 (+/-0.006) for {'C': 0.01, 'kernel': 'rbf'}\n",
      "0.828 (+/-0.039) for {'C': 0.1, 'kernel': 'linear'}\n",
      "0.821 (+/-0.037) for {'C': 0.1, 'kernel': 'rbf'}\n",
      "0.828 (+/-0.039) for {'C': 1, 'kernel': 'linear'}\n",
      "0.828 (+/-0.039) for {'C': 1, 'kernel': 'rbf'}\n",
      "0.828 (+/-0.039) for {'C': 10, 'kernel': 'linear'}\n",
      "0.797 (+/-0.1) for {'C': 10, 'kernel': 'rbf'}\n"
     ]
    }
   ],
   "source": [
    "# If you want SVM to output probabilities, you need to specify probability=True when you are instantiating the SVC class.\n",
    "SVM = SVC(probability=True)\n",
    "parameters = {\n",
    "    'kernel': ['linear', 'rbf'],\n",
    "    'C': [0.01, 0.1, 1, 10]\n",
    "}\n",
    "\n",
    "SVM_CV = GridSearchCV(SVM, parameters, cv=5)\n",
    "SVM_CV.fit(X_train, y_train.values.ravel())\n",
    "\n",
    "print_results(SVM_CV)"
   ]
  },
  {
   "cell_type": "code",
   "execution_count": 155,
   "metadata": {},
   "outputs": [],
   "source": [
    "SVM_CV_model = SVM_CV.fit(X_train, y_train.values.ravel())"
   ]
  },
  {
   "cell_type": "code",
   "execution_count": 158,
   "metadata": {},
   "outputs": [],
   "source": [
    "from sklearn.metrics import roc_curve\n",
    "\n",
    "y_pred_prob1 = DT_CV_model.predict_proba(X_val)[:,1]\n",
    "fpr1 , tpr1, thresholds1 = roc_curve(y_val, y_pred_prob1)\n",
    "\n",
    "y_pred_prob2 = LR_CV_model.predict_proba(X_val)[:,1]\n",
    "fpr2 , tpr2, thresholds2 = roc_curve(y_val, y_pred_prob2)\n",
    "\n",
    "y_pred_prob3 = SVM_CV_model.predict_proba(X_val)[:,1]\n",
    "fpr3 , tpr3, thresholds3 = roc_curve(y_val, y_pred_prob3)\n",
    "\n",
    "y_pred_prob4 = RF_CV_model.predict_proba(X_val)[:,1]\n",
    "fpr4 , tpr4, thresholds4 = roc_curve(y_val, y_pred_prob4)\n",
    "\n",
    "y_pred_prob5 = XGB_CV_model.predict_proba(X_val)[:,1]\n",
    "fpr5 , tpr5, thresholds5 = roc_curve(y_val, y_pred_prob5)"
   ]
  },
  {
   "cell_type": "code",
   "execution_count": 160,
   "metadata": {},
   "outputs": [
    {
     "data": {
      "image/png": "[encoded data removed]",
      "text/plain": [
       "<Figure size 864x360 with 1 Axes>"
      ]
     },
     "metadata": {
      "needs_background": "light"
     },
     "output_type": "display_data"
    }
   ],
   "source": [
    "plt.figure(figsize=(12,5))\n",
    "plt.plot([0,1],[0,1], 'k--')\n",
    "plt.plot(fpr1, tpr1, label= \"Decision Tree\")\n",
    "plt.plot(fpr2, tpr2, label= \"Logistic Regression\")\n",
    "plt.plot(fpr3, tpr3, label= \"SVM\")\n",
    "plt.plot(fpr4, tpr4, label= \"Random Forest\")\n",
    "plt.plot(fpr5, tpr5, label= \"XGBM\")\n",
    "# plt.plot(fpr4, tpr4, label= \"Sigmoid\")\n",
    "plt.legend()\n",
    "plt.xlabel(\"FPR\")\n",
    "plt.ylabel(\"TPR\")\n",
    "plt.title('Receiver Operating Characteristic')\n",
    "plt.show()"
   ]
  },
  {
   "cell_type": "code",
   "execution_count": null,
   "metadata": {},
   "outputs": [],
   "source": []
  }
 ],
 "metadata": {
  "colab": {
   "collapsed_sections": [],
   "name": "9.3 Loan Prediction Data Preparation.ipynb",
   "provenance": []
  },
  "kernelspec": {
   "display_name": "Python 3",
   "language": "python",
   "name": "python3"
  },
  "language_info": {
   "codemirror_mode": {
    "name": "ipython",
    "version": 3
   },
   "file_extension": ".py",
   "mimetype": "text/x-python",
   "name": "python",
   "nbconvert_exporter": "python",
   "pygments_lexer": "ipython3",
   "version": "3.8.8"
  }
 },
 "nbformat": 4,
 "nbformat_minor": 1
}
